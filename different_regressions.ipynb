{
 "cells": [
  {
   "cell_type": "code",
   "execution_count": null,
   "metadata": {},
   "outputs": [],
   "source": [
    "import pandas as pd\n",
    "import numpy as np\n",
    "from torchtext.vocab import GloVe\n",
    "import time\n",
    "from sklearn.linear_model import LinearRegression\n",
    "from sklearn import linear_model\n",
    "from sklearn import preprocessing\n",
    "import matplotlib.pyplot as plt\n",
    "import syllables"
   ]
  },
  {
   "cell_type": "markdown",
   "metadata": {},
   "source": [
    "#### Loads GloVe embeddings with default settings"
   ]
  },
  {
   "cell_type": "code",
   "execution_count": null,
   "metadata": {
    "scrolled": true
   },
   "outputs": [],
   "source": [
    "df = pd.read_csv('datasets/lcp_single_train.tsv', delimiter='\\t')\n",
    "\n",
    "#Change GloVe cache to GloVe Installation path\n",
    "glove = GloVe(cache='GloVe/')\n",
    "\n",
    "print(\"Loading GloVe embeddings...\")\n",
    "a = time.time()\n",
    "df['glove'] = df.apply(lambda row: glove[row['token']].numpy(), axis=1)\n",
    "b = time.time()\n",
    "print(\"Finished loading GloVe embeddings in\", b-a, \"seconds.\")\n",
    "\n",
    "training_data = np.stack(df['glove'].tolist())\n",
    "\n",
    "df_trial = pd.read_csv('datasets/lcp_single_trial.tsv', delimiter='\\t')\n",
    "df_trial['glove'] = df_trial.apply(lambda row: glove[row['token']].numpy(), axis=1)\n",
    "trial_data = np.stack(df_trial['glove'].tolist())"
   ]
  },
  {
   "cell_type": "markdown",
   "metadata": {},
   "source": [
    "#### Defines Plot Building Function"
   ]
  },
  {
   "cell_type": "code",
   "execution_count": null,
   "metadata": {},
   "outputs": [],
   "source": [
    "def plotCharts(predictions, truth):\n",
    "    plt.plot(predictions, truth, 'o')\n",
    "    plt.title(\"Predictions vs. truth on the trial set\")\n",
    "    plt.savefig(\"trial_regression.png\")\n",
    "    plt.show()\n",
    "\n",
    "    plt.plot(predictions, predictions - truth, 'o')\n",
    "    plt.title(\"Predicted vs L1 error no abs\")\n",
    "    plt.show()\n",
    "\n",
    "    plt.plot(trial_complexity, predictions - truth, 'o')\n",
    "    std = np.std(predictions - trial_complexity)\n",
    "    plt.title(\"Truth vs L1 error no abs, STD: {}\".format(round(std, 4)))\n",
    "    plt.show()"
   ]
  },
  {
   "cell_type": "markdown",
   "metadata": {},
   "source": [
    "#### Default Linear Regression"
   ]
  },
  {
   "cell_type": "code",
   "execution_count": null,
   "metadata": {
    "scrolled": true
   },
   "outputs": [],
   "source": [
    "'''\n",
    "Train R^2 0.6116870249132482\n",
    "Train L1: 0.06484457413081363\n",
    "Train L2: 0.006877313401841914\n",
    "Trial R^2: 0.6188507127442916\n",
    "Trial L1: 0.07193707302694131\n",
    "Trial L2: 0.008524886396647887\n",
    "'''\n",
    "\n",
    "linreg = LinearRegression()\n",
    "complexity = df['complexity']\n",
    "linreg.fit(training_data, complexity)\n",
    "\n",
    "predictions = linreg.predict(training_data)\n",
    "print(\"Train R^2\", linreg.score(training_data, complexity))\n",
    "print(\"Train L1:\", np.mean(np.abs(predictions - complexity)))\n",
    "print(\"Train L2:\", np.mean(np.square(predictions - complexity)))\n",
    "\n",
    "# eval on trial data\n",
    "trial_predictions = linreg.predict(trial_data)\n",
    "trial_complexity = df_trial['complexity']\n",
    "\n",
    "print(\"Trial R^2:\", linreg.score(trial_data, trial_complexity))\n",
    "print(\"Trial L1:\", np.mean(np.abs(trial_predictions - trial_complexity)))\n",
    "print(\"Trial L2:\", np.mean(np.square(trial_predictions - trial_complexity)))\n",
    "\n",
    "plotCharts(trial_predictions, trial_complexity)"
   ]
  },
  {
   "cell_type": "markdown",
   "metadata": {},
   "source": [
    "# SVR"
   ]
  },
  {
   "cell_type": "markdown",
   "metadata": {},
   "source": [
    "### Default SVR"
   ]
  },
  {
   "cell_type": "code",
   "execution_count": null,
   "metadata": {
    "scrolled": true
   },
   "outputs": [],
   "source": [
    "\"\"\"\n",
    "Default SVR\n",
    "Train R^2 0.7414494251127137\n",
    "Train L1: 0.056722483705022836\n",
    "Trial R^2: 0.6400853869204248\n",
    "Trial L1: 0.06904373273713046\n",
    "\"\"\" \n",
    "\n",
    "from sklearn import svm\n",
    "svrreg = svm.SVR(C=1)\n",
    "complexity = df['complexity']\n",
    "svrreg.fit(training_data, complexity)\n",
    "\n",
    "predictions = svrreg.predict(training_data)\n",
    "print(\"Train R^2\", svrreg.score(training_data, complexity))\n",
    "print(\"Train L1:\", np.mean(np.abs(predictions - complexity)))\n",
    "print(\"Train L2:\", np.mean(np.square(predictions - complexity)))\n",
    "\n",
    "# eval on trial data\n",
    "trial_predictions = svrreg.predict(trial_data)\n",
    "trial_complexity = df_trial['complexity']\n",
    "\n",
    "print(\"Trial R^2:\", svrreg.score(trial_data, trial_complexity))\n",
    "print(\"Trial L1:\", np.mean(np.abs(trial_predictions - trial_complexity)))\n",
    "print(\"Trial L2:\", np.mean(np.square(trial_predictions - trial_complexity)))\n",
    "\n",
    "plotCharts(trial_predictions, trial_complexity)"
   ]
  },
  {
   "cell_type": "markdown",
   "metadata": {},
   "source": [
    "### SVR with Epsilon=0.02"
   ]
  },
  {
   "cell_type": "code",
   "execution_count": null,
   "metadata": {},
   "outputs": [],
   "source": [
    "\"\"\"\n",
    "SVR Epsilon = 0.02\n",
    "Train R^2 0.8299065298168575\n",
    "Train L1: 0.039219046136949286\n",
    "Trial R^2: 0.6616577283798268\n",
    "Trial L1: 0.06703706379369276\n",
    "\"\"\" \n",
    "\n",
    "from sklearn import svm\n",
    "svrreg = svm.SVR(epsilon=.02)\n",
    "complexity = df['complexity']\n",
    "svrreg.fit(training_data, complexity)\n",
    "\n",
    "predictions = svrreg.predict(training_data)\n",
    "print(\"Train R^2\", svrreg.score(training_data, complexity))\n",
    "print(\"Train L1:\", np.mean(np.abs(predictions - complexity)))\n",
    "\n",
    "# eval on trial data\n",
    "trial_predictions = svrreg.predict(trial_data)\n",
    "trial_complexity = df_trial['complexity']\n",
    "\n",
    "print(\"Trial R^2:\", svrreg.score(trial_data, trial_complexity))\n",
    "print(\"Trial L1:\", np.mean(np.abs(trial_predictions - trial_complexity)))\n",
    "\n",
    "plotCharts(trial_predictions, trial_complexity)"
   ]
  },
  {
   "cell_type": "markdown",
   "metadata": {},
   "source": [
    "### SVR with Epsilon=0"
   ]
  },
  {
   "cell_type": "code",
   "execution_count": null,
   "metadata": {},
   "outputs": [],
   "source": [
    "\"\"\"\n",
    "SVR Epsilon = 0.01 With Bagging\n",
    "Train R^2 0.8171951889110142\n",
    "Train L1: 0.04270026210792148\n",
    "Trial R^2: 0.65143687729242\n",
    "Trial L1: 0.06787063160575084\n",
    "\"\"\" \n",
    "\n",
    "from sklearn import svm\n",
    "from sklearn.ensemble import BaggingRegressor\n",
    "svrreg = BaggingRegressor(base_estimator=svm.SVR(epsilon=0.01), random_state=0, max_samples=0.5, max_features=0.5)\n",
    "complexity = df['complexity']\n",
    "svrreg.fit(training_data, complexity)\n",
    "\n",
    "predictions = svrreg.predict(training_data)\n",
    "print(\"Train R^2\", svrreg.score(training_data, complexity))\n",
    "print(\"Train L1:\", np.mean(np.abs(predictions - complexity)))\n",
    "\n",
    "# eval on trial data\n",
    "trial_predictions = svrreg.predict(trial_data)\n",
    "trial_complexity = df_trial['complexity']\n",
    "\n",
    "print(\"Trial R^2:\", svrreg.score(trial_data, trial_complexity))\n",
    "print(\"Trial L1:\", np.mean(np.abs(trial_predictions - trial_complexity)))\n",
    "\n",
    "plotCharts(trial_predictions, trial_complexity)"
   ]
  },
  {
   "cell_type": "code",
   "execution_count": null,
   "metadata": {},
   "outputs": [],
   "source": [
    "from sklearn import svm\n",
    "from sklearn.ensemble import BaggingRegressor\n",
    "svrreg = BaggingRegressor(base_estimator=svm.SVR(epsilon=0.01, C=0.1), random_state=0)\n",
    "complexity = df['complexity']\n",
    "svrreg.fit(training_data, complexity)\n",
    "\n",
    "predictions = svrreg.predict(training_data)\n",
    "print(\"Train R^2\", svrreg.score(training_data, complexity))\n",
    "print(\"Train L1:\", np.mean(np.abs(predictions - complexity)))\n",
    "\n",
    "# eval on trial data\n",
    "trial_predictions = svrreg.predict(trial_data)\n",
    "trial_complexity = df_trial['complexity']\n",
    "\n",
    "print(\"Trial R^2:\", svrreg.score(trial_data, trial_complexity))\n",
    "print(\"Trial L1:\", np.mean(np.abs(trial_predictions - trial_complexity)))\n",
    "\n",
    "plotCharts(trial_predictions, trial_complexity)"
   ]
  },
  {
   "cell_type": "markdown",
   "metadata": {},
   "source": [
    "# Random Forest Regressor"
   ]
  },
  {
   "cell_type": "code",
   "execution_count": null,
   "metadata": {},
   "outputs": [],
   "source": [
    "from sklearn.ensemble import RandomForestRegressor\n",
    "reg = RandomForestRegressor(n_estimators=10, max_depth=1000)\n",
    "complexity = df['complexity']\n",
    "reg.fit(training_data, complexity)\n",
    "\n",
    "predictions = reg.predict(training_data)\n",
    "print(\"Train R^2\", reg.score(training_data, complexity))\n",
    "print(\"Train L1:\", np.mean(np.abs(predictions - complexity)))\n",
    "\n",
    "# eval on trial data\n",
    "trial_predictions = reg.predict(trial_data)\n",
    "trial_complexity = df_trial['complexity']\n",
    "\n",
    "print(\"Trial R^2:\", reg.score(trial_data, trial_complexity))\n",
    "print(\"Trial L1:\", np.mean(np.abs(trial_predictions - trial_complexity)))\n",
    "\n",
    "plotCharts(trial_predictions, trial_complexity)"
   ]
  },
  {
   "cell_type": "markdown",
   "metadata": {},
   "source": [
    "# Syllables"
   ]
  },
  {
   "cell_type": "code",
   "execution_count": null,
   "metadata": {},
   "outputs": [],
   "source": [
    "def createData(df):\n",
    "    df['glove'] = df.apply(lambda row: glove[row['token']].numpy(), axis=1)\n",
    "    df['syllables'] = df['token'].apply(lambda x: syllables.estimate(str(x)))\n",
    "    df['syllables_scaled'] = preprocessing.scale(df['syllables'])\n",
    "    df['features'] = df.apply(lambda row: np.append(row['glove'], row['syllables_scaled']), axis=1)\n",
    "    data = np.stack(df['features'].tolist())\n",
    "    return data"
   ]
  },
  {
   "cell_type": "markdown",
   "metadata": {},
   "source": [
    "#### Creates Syllable Training Data"
   ]
  },
  {
   "cell_type": "code",
   "execution_count": null,
   "metadata": {},
   "outputs": [],
   "source": [
    "training_data_syllables = createData(df)\n",
    "trial_data_syllables = createData(df_trial)\n",
    "print(training_data_syllables)"
   ]
  },
  {
   "cell_type": "code",
   "execution_count": null,
   "metadata": {},
   "outputs": [],
   "source": [
    "linreg = LinearRegression()\n",
    "complexity = df['complexity']\n",
    "linreg.fit(training_data_syllables, complexity)\n",
    "\n",
    "predictions = linreg.predict(training_data_syllables)\n",
    "print(\"Train R^2\", linreg.score(training_data_syllables, complexity))\n",
    "print(\"Train L1:\", np.mean(np.abs(predictions - complexity)))\n",
    "\n",
    "# eval on trial data\n",
    "trial_predictions = linreg.predict(trial_data_syllables)\n",
    "trial_complexity = df_trial['complexity']\n",
    "\n",
    "print(\"Trial R^2:\", linreg.score(trial_data_syllables, trial_complexity))\n",
    "print(\"Trial L1:\", np.mean(np.abs(trial_predictions - trial_complexity)))\n",
    "\n",
    "plotCharts(trial_predictions, trial_complexity)"
   ]
  },
  {
   "cell_type": "code",
   "execution_count": null,
   "metadata": {},
   "outputs": [],
   "source": [
    "\"\"\"\n",
    "SVR Epsilon = 0.01\n",
    "Train R^2 0.8288651784113816\n",
    "Train L1: 0.0361685926619976\n",
    "Trial R^2: 0.6639123014282307\n",
    "Trial L1: 0.0666936906337456\n",
    "\"\"\" \n",
    "\n",
    "from sklearn import svm\n",
    "svrreg = svm.SVR(epsilon=0.01)\n",
    "complexity = df['complexity']\n",
    "svrreg.fit(training_data_syllables, complexity)\n",
    "\n",
    "predictions = linreg.predict(training_data_syllables)\n",
    "print(\"Train R^2\", linreg.score(training_data_syllables, complexity))\n",
    "print(\"Train L1:\", np.mean(np.abs(predictions - complexity)))\n",
    "\n",
    "# eval on trial data\n",
    "trial_predictions = linreg.predict(trial_data_syllables)\n",
    "trial_complexity = df_trial['complexity']\n",
    "\n",
    "print(\"Trial R^2:\", linreg.score(trial_data_syllables, trial_complexity))\n",
    "print(\"Trial L1:\", np.mean(np.abs(trial_predictions - trial_complexity)))\n",
    "\n",
    "plotCharts(trial_predictions, trial_complexity)"
   ]
  },
  {
   "cell_type": "code",
   "execution_count": null,
   "metadata": {},
   "outputs": [],
   "source": [
    "\"\"\"\n",
    "SVR Epsilon = 0.01 With Bagging\n",
    "Train R^2 0.8171951889110142\n",
    "Train L1: 0.04270026210792148\n",
    "Trial R^2: 0.6632770023442027\n",
    "Trial L1: 0.06634198242108581\n",
    "\"\"\" \n",
    "\n",
    "from sklearn import svm\n",
    "from sklearn.ensemble import BaggingRegressor\n",
    "svrreg = BaggingRegressor(base_estimator=svm.SVR(epsilon=0.01), random_state=0)\n",
    "complexity = df['complexity']\n",
    "svrreg.fit(training_data_syllables, complexity)\n",
    "\n",
    "predictions = linreg.predict(training_data_syllables)\n",
    "print(\"Train R^2\", linreg.score(training_data_syllables, complexity))\n",
    "print(\"Train L1:\", np.mean(np.abs(predictions - complexity)))\n",
    "\n",
    "# eval on trial data\n",
    "trial_predictions = linreg.predict(trial_data_syllables)\n",
    "trial_complexity = df_trial['complexity']\n",
    "\n",
    "print(\"Trial R^2:\", linreg.score(trial_data_syllables, trial_complexity))\n",
    "print(\"Trial L1:\", np.mean(np.abs(trial_predictions - trial_complexity)))\n",
    "\n",
    "plotCharts(trial_predictions, trial_complexity)"
   ]
  }
 ],
 "metadata": {
  "kernelspec": {
   "display_name": "Python 3",
   "language": "python",
   "name": "python3"
  },
  "language_info": {
   "codemirror_mode": {
    "name": "ipython",
    "version": 3
   },
   "file_extension": ".py",
   "mimetype": "text/x-python",
   "name": "python",
   "nbconvert_exporter": "python",
   "pygments_lexer": "ipython3",
   "version": "3.8.3"
  }
 },
 "nbformat": 4,
 "nbformat_minor": 4
}
