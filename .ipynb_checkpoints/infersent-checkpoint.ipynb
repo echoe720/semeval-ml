{
 "cells": [
  {
   "cell_type": "code",
   "execution_count": 1,
   "metadata": {},
   "outputs": [
    {
     "name": "stderr",
     "output_type": "stream",
     "text": [
      "[nltk_data] Downloading package punkt to /Users/echoe720/nltk_data...\n",
      "[nltk_data]   Unzipping tokenizers/punkt.zip.\n"
     ]
    }
   ],
   "source": [
    "import pandas as pd\n",
    "from sklearn.linear_model import LinearRegression\n",
    "import matplotlib.pyplot as plt\n",
    "\n",
    "import nltk\n",
    "nltk.download('punkt')\n",
    "\n",
    "from random import randint\n",
    "import numpy as np\n",
    "import torch"
   ]
  },
  {
   "cell_type": "code",
   "execution_count": 2,
   "metadata": {},
   "outputs": [],
   "source": [
    "df = pd.read_csv('datasets/lcp_single_train.tsv', delimiter='\\t')\n",
    "complexity = df['complexity']\n",
    "sentences = df['sentence']"
   ]
  },
  {
   "cell_type": "code",
   "execution_count": 4,
   "metadata": {},
   "outputs": [
    {
     "name": "stdout",
     "output_type": "stream",
     "text": [
      "  % Total    % Received % Xferd  Average Speed   Time    Time     Time  Current\n",
      "                                 Dload  Upload   Total   Spent    Left  Speed\n",
      "100  146M  100  146M    0     0  8749k      0  0:00:17  0:00:17 --:--:-- 7512k\n"
     ]
    }
   ],
   "source": [
    "# !mkdir encoder\n",
    "# !curl -Lo encoder/infersent1.pkl https://dl.fbaipublicfiles.com/infersent/infersent1.pkl"
   ]
  },
  {
   "cell_type": "code",
   "execution_count": 5,
   "metadata": {},
   "outputs": [
    {
     "ename": "FileNotFoundError",
     "evalue": "[Errno 2] No such file or directory: 'encoder/infersent2.pkl'",
     "output_type": "error",
     "traceback": [
      "\u001b[0;31m---------------------------------------------------------------------------\u001b[0m",
      "\u001b[0;31mFileNotFoundError\u001b[0m                         Traceback (most recent call last)",
      "\u001b[0;32m<ipython-input-5-b79f348de71a>\u001b[0m in \u001b[0;36m<module>\u001b[0;34m\u001b[0m\n\u001b[1;32m      6\u001b[0m \u001b[0minfersent\u001b[0m \u001b[0;34m=\u001b[0m \u001b[0mInferSent\u001b[0m\u001b[0;34m(\u001b[0m\u001b[0mparams_model\u001b[0m\u001b[0;34m)\u001b[0m\u001b[0;34m\u001b[0m\u001b[0;34m\u001b[0m\u001b[0m\n\u001b[1;32m      7\u001b[0m \u001b[0mMODEL_PATH\u001b[0m \u001b[0;34m=\u001b[0m \u001b[0;34m'encoder/infersent%s.pkl'\u001b[0m \u001b[0;34m%\u001b[0m \u001b[0mV\u001b[0m\u001b[0;34m\u001b[0m\u001b[0;34m\u001b[0m\u001b[0m\n\u001b[0;32m----> 8\u001b[0;31m \u001b[0minfersent\u001b[0m\u001b[0;34m.\u001b[0m\u001b[0mload_state_dict\u001b[0m\u001b[0;34m(\u001b[0m\u001b[0mtorch\u001b[0m\u001b[0;34m.\u001b[0m\u001b[0mload\u001b[0m\u001b[0;34m(\u001b[0m\u001b[0mMODEL_PATH\u001b[0m\u001b[0;34m)\u001b[0m\u001b[0;34m)\u001b[0m\u001b[0;34m\u001b[0m\u001b[0;34m\u001b[0m\u001b[0m\n\u001b[0m",
      "\u001b[0;32m/Applications/anaconda3/lib/python3.8/site-packages/torch/serialization.py\u001b[0m in \u001b[0;36mload\u001b[0;34m(f, map_location, pickle_module, **pickle_load_args)\u001b[0m\n\u001b[1;32m    569\u001b[0m         \u001b[0mpickle_load_args\u001b[0m\u001b[0;34m[\u001b[0m\u001b[0;34m'encoding'\u001b[0m\u001b[0;34m]\u001b[0m \u001b[0;34m=\u001b[0m \u001b[0;34m'utf-8'\u001b[0m\u001b[0;34m\u001b[0m\u001b[0;34m\u001b[0m\u001b[0m\n\u001b[1;32m    570\u001b[0m \u001b[0;34m\u001b[0m\u001b[0m\n\u001b[0;32m--> 571\u001b[0;31m     \u001b[0;32mwith\u001b[0m \u001b[0m_open_file_like\u001b[0m\u001b[0;34m(\u001b[0m\u001b[0mf\u001b[0m\u001b[0;34m,\u001b[0m \u001b[0;34m'rb'\u001b[0m\u001b[0;34m)\u001b[0m \u001b[0;32mas\u001b[0m \u001b[0mopened_file\u001b[0m\u001b[0;34m:\u001b[0m\u001b[0;34m\u001b[0m\u001b[0;34m\u001b[0m\u001b[0m\n\u001b[0m\u001b[1;32m    572\u001b[0m         \u001b[0;32mif\u001b[0m \u001b[0m_is_zipfile\u001b[0m\u001b[0;34m(\u001b[0m\u001b[0mopened_file\u001b[0m\u001b[0;34m)\u001b[0m\u001b[0;34m:\u001b[0m\u001b[0;34m\u001b[0m\u001b[0;34m\u001b[0m\u001b[0m\n\u001b[1;32m    573\u001b[0m             \u001b[0;31m# The zipfile reader is going to advance the current file position.\u001b[0m\u001b[0;34m\u001b[0m\u001b[0;34m\u001b[0m\u001b[0;34m\u001b[0m\u001b[0m\n",
      "\u001b[0;32m/Applications/anaconda3/lib/python3.8/site-packages/torch/serialization.py\u001b[0m in \u001b[0;36m_open_file_like\u001b[0;34m(name_or_buffer, mode)\u001b[0m\n\u001b[1;32m    227\u001b[0m \u001b[0;32mdef\u001b[0m \u001b[0m_open_file_like\u001b[0m\u001b[0;34m(\u001b[0m\u001b[0mname_or_buffer\u001b[0m\u001b[0;34m,\u001b[0m \u001b[0mmode\u001b[0m\u001b[0;34m)\u001b[0m\u001b[0;34m:\u001b[0m\u001b[0;34m\u001b[0m\u001b[0;34m\u001b[0m\u001b[0m\n\u001b[1;32m    228\u001b[0m     \u001b[0;32mif\u001b[0m \u001b[0m_is_path\u001b[0m\u001b[0;34m(\u001b[0m\u001b[0mname_or_buffer\u001b[0m\u001b[0;34m)\u001b[0m\u001b[0;34m:\u001b[0m\u001b[0;34m\u001b[0m\u001b[0;34m\u001b[0m\u001b[0m\n\u001b[0;32m--> 229\u001b[0;31m         \u001b[0;32mreturn\u001b[0m \u001b[0m_open_file\u001b[0m\u001b[0;34m(\u001b[0m\u001b[0mname_or_buffer\u001b[0m\u001b[0;34m,\u001b[0m \u001b[0mmode\u001b[0m\u001b[0;34m)\u001b[0m\u001b[0;34m\u001b[0m\u001b[0;34m\u001b[0m\u001b[0m\n\u001b[0m\u001b[1;32m    230\u001b[0m     \u001b[0;32melse\u001b[0m\u001b[0;34m:\u001b[0m\u001b[0;34m\u001b[0m\u001b[0;34m\u001b[0m\u001b[0m\n\u001b[1;32m    231\u001b[0m         \u001b[0;32mif\u001b[0m \u001b[0;34m'w'\u001b[0m \u001b[0;32min\u001b[0m \u001b[0mmode\u001b[0m\u001b[0;34m:\u001b[0m\u001b[0;34m\u001b[0m\u001b[0;34m\u001b[0m\u001b[0m\n",
      "\u001b[0;32m/Applications/anaconda3/lib/python3.8/site-packages/torch/serialization.py\u001b[0m in \u001b[0;36m__init__\u001b[0;34m(self, name, mode)\u001b[0m\n\u001b[1;32m    208\u001b[0m \u001b[0;32mclass\u001b[0m \u001b[0m_open_file\u001b[0m\u001b[0;34m(\u001b[0m\u001b[0m_opener\u001b[0m\u001b[0;34m)\u001b[0m\u001b[0;34m:\u001b[0m\u001b[0;34m\u001b[0m\u001b[0;34m\u001b[0m\u001b[0m\n\u001b[1;32m    209\u001b[0m     \u001b[0;32mdef\u001b[0m \u001b[0m__init__\u001b[0m\u001b[0;34m(\u001b[0m\u001b[0mself\u001b[0m\u001b[0;34m,\u001b[0m \u001b[0mname\u001b[0m\u001b[0;34m,\u001b[0m \u001b[0mmode\u001b[0m\u001b[0;34m)\u001b[0m\u001b[0;34m:\u001b[0m\u001b[0;34m\u001b[0m\u001b[0;34m\u001b[0m\u001b[0m\n\u001b[0;32m--> 210\u001b[0;31m         \u001b[0msuper\u001b[0m\u001b[0;34m(\u001b[0m\u001b[0m_open_file\u001b[0m\u001b[0;34m,\u001b[0m \u001b[0mself\u001b[0m\u001b[0;34m)\u001b[0m\u001b[0;34m.\u001b[0m\u001b[0m__init__\u001b[0m\u001b[0;34m(\u001b[0m\u001b[0mopen\u001b[0m\u001b[0;34m(\u001b[0m\u001b[0mname\u001b[0m\u001b[0;34m,\u001b[0m \u001b[0mmode\u001b[0m\u001b[0;34m)\u001b[0m\u001b[0;34m)\u001b[0m\u001b[0;34m\u001b[0m\u001b[0;34m\u001b[0m\u001b[0m\n\u001b[0m\u001b[1;32m    211\u001b[0m \u001b[0;34m\u001b[0m\u001b[0m\n\u001b[1;32m    212\u001b[0m     \u001b[0;32mdef\u001b[0m \u001b[0m__exit__\u001b[0m\u001b[0;34m(\u001b[0m\u001b[0mself\u001b[0m\u001b[0;34m,\u001b[0m \u001b[0;34m*\u001b[0m\u001b[0margs\u001b[0m\u001b[0;34m)\u001b[0m\u001b[0;34m:\u001b[0m\u001b[0;34m\u001b[0m\u001b[0;34m\u001b[0m\u001b[0m\n",
      "\u001b[0;31mFileNotFoundError\u001b[0m: [Errno 2] No such file or directory: 'encoder/infersent2.pkl'"
     ]
    }
   ],
   "source": [
    "from models import InferSent\n",
    "V = 2\n",
    "MODEL_PATH = 'encoder/infersent%s.pkl' % V\n",
    "params_model = {'bsize': 64, 'word_emb_dim': 300, 'enc_lstm_dim': 2048,\n",
    "                'pool_type': 'max', 'dpout_model': 0.0, 'version': V}\n",
    "infersent = InferSent(params_model)\n",
    "MODEL_PATH = 'encoder/infersent%s.pkl' % V\n",
    "infersent.load_state_dict(torch.load(MODEL_PATH))"
   ]
  },
  {
   "cell_type": "code",
   "execution_count": null,
   "metadata": {},
   "outputs": [],
   "source": [
    "#unzip glove.840B.300d.zip, filepath may vary\n",
    "\n",
    "#!unzip GloVe/glove.840B.300d.zip -d GloVe/"
   ]
  },
  {
   "cell_type": "code",
   "execution_count": 13,
   "metadata": {},
   "outputs": [],
   "source": [
    "infersent.set_w2v_path('GloVe/glove.840B.300d.txt')"
   ]
  },
  {
   "cell_type": "code",
   "execution_count": 14,
   "metadata": {},
   "outputs": [
    {
     "name": "stdout",
     "output_type": "stream",
     "text": [
      "Found 16171(/18551) words with w2v vectors\n",
      "Vocab size : 16171\n"
     ]
    }
   ],
   "source": [
    "infersent.build_vocab(sentences, tokenize=True)"
   ]
  },
  {
   "cell_type": "code",
   "execution_count": 15,
   "metadata": {},
   "outputs": [],
   "source": [
    "embeddings = infersent.encode(sentences, tokenize=True)"
   ]
  },
  {
   "cell_type": "code",
   "execution_count": 16,
   "metadata": {},
   "outputs": [
    {
     "name": "stdout",
     "output_type": "stream",
     "text": [
      "Train R^2 0.6342030154222049\n",
      "Train L1: 0.06228373265716361\n"
     ]
    }
   ],
   "source": [
    "import time\n",
    "from sklearn.linear_model import LinearRegression\n",
    "linreg = LinearRegression()\n",
    "complexity = df['complexity']\n",
    "sentences = df['sentence']\n",
    "\n",
    "linreg.fit(embeddings, complexity)\n",
    "predictions = linreg.predict(embeddings)\n",
    "print(\"Train R^2\", linreg.score(embeddings, complexity))\n",
    "print(\"Train L1:\", np.mean(np.abs(predictions - complexity)))"
   ]
  },
  {
   "cell_type": "code",
   "execution_count": 18,
   "metadata": {
    "scrolled": true
   },
   "outputs": [
    {
     "name": "stdout",
     "output_type": "stream",
     "text": [
      "Trial R^2: 0.9866130024894207\n",
      "Trial L1: 0.012695689103637461\n"
     ]
    },
    {
     "data": {
      "image/png": "[encoded data removed]",
      "text/plain": [
       "<Figure size 432x288 with 1 Axes>"
      ]
     },
     "metadata": {
      "needs_background": "light"
     },
     "output_type": "display_data"
    }
   ],
   "source": [
    "import pandas as pd\n",
    "df_trial = pd.read_csv('datasets/lcp_single_trial.tsv', delimiter='\\t')\n",
    "trial_sentences = df_trial['sentence']\n",
    "trial_complexity = df_trial['complexity']\n",
    "trial_embeddings = infersent.encode(trial_sentences, tokenize=True)\n",
    "linreg.fit(trial_embeddings, trial_complexity)\n",
    "trial_predictions = linreg.predict(trial_embeddings)\n",
    "print(\"Trial R^2:\", linreg.score(trial_embeddings, trial_complexity))\n",
    "print(\"Trial L1:\", np.mean(np.abs(trial_predictions - trial_complexity)))\n",
    "plt.plot(trial_predictions, trial_complexity, 'o')\n",
    "plt.title(\"Truth vs. prediction on the trial set\")\n",
    "plt.savefig(\"trial_regression.png\")"
   ]
  },
  {
   "cell_type": "code",
   "execution_count": 19,
   "metadata": {},
   "outputs": [
    {
     "name": "stdout",
     "output_type": "stream",
     "text": [
      "[ 7.43865967e-05  9.87110138e-02  1.06277466e-01  1.50835037e-01\n",
      " -7.50350952e-03  5.65261841e-02  1.09886169e-01  1.49887085e-01\n",
      "  2.11326599e-01  4.77485657e-02  1.21175766e-01  1.17095947e-01\n",
      "  1.32680893e-01  2.20256805e-01  1.06382370e-01  1.56969070e-01\n",
      "  2.34203339e-01  9.64603424e-02  1.34298325e-01  2.01759338e-01\n",
      "  4.80079651e-02  2.59510040e-01  2.29343414e-01  9.70993042e-02\n",
      "  1.33781433e-01  1.83933258e-01  2.72951126e-01  9.81273651e-02\n",
      "  2.82300949e-01  1.39192581e-01  1.18446350e-01  2.28466034e-01\n",
      "  9.25941467e-02  2.43247986e-01  2.41817474e-01  2.76279449e-01\n",
      "  3.33498001e-01  1.19338989e-01  1.38250351e-01  3.37738037e-01\n",
      "  1.37176514e-01  2.66828537e-01  1.26005173e-01  2.11662292e-01\n",
      "  2.32746124e-01  3.06509018e-01  1.60522461e-01  1.71447754e-01\n",
      "  1.57129288e-01  2.01457977e-01  2.04887390e-01  3.02640915e-01\n",
      "  3.08584213e-01  1.86155319e-01  1.37884140e-01  1.83717728e-01\n",
      "  2.21397400e-01  2.14092255e-01  1.76040649e-01  3.49338531e-01\n",
      "  1.94698334e-01  3.54734421e-01  2.01276779e-01  2.17954636e-01\n",
      "  2.14927673e-01  3.07802200e-01  1.98081970e-01  2.76393890e-01\n",
      "  2.00614929e-01  2.38685608e-01  2.76185989e-01  3.59802246e-01\n",
      "  2.14885712e-01  1.70791626e-01  2.41855621e-01  2.31855392e-01\n",
      "  1.95819855e-01  2.37758636e-01  2.13815689e-01  2.11219788e-01\n",
      "  2.41771698e-01  2.27756500e-01  2.78425217e-01  3.49227905e-01\n",
      "  2.32959747e-01  2.67374039e-01  2.13071823e-01  2.32769012e-01\n",
      "  2.58268356e-01  2.24960327e-01  2.34537125e-01  2.39116669e-01\n",
      "  3.15475464e-01  2.83294678e-01  2.59956360e-01  3.16396713e-01\n",
      "  3.12295914e-01  4.97150421e-01  4.70886230e-01  2.81122208e-01\n",
      "  2.83050537e-01  3.16059113e-01  3.39763641e-01  3.81841660e-01\n",
      "  3.59018326e-01  3.71740341e-01  3.96394730e-01  2.76393890e-01\n",
      "  3.81498337e-01  4.88620758e-01  5.72294235e-01  3.84073257e-01\n",
      "  4.00180817e-01  4.15483475e-01  4.36840057e-01  5.70957184e-01\n",
      "  4.41720963e-01  4.84302521e-01  5.13776779e-01  4.37143326e-01\n",
      "  4.43199158e-01  4.84279633e-01  5.32926559e-01  3.59939575e-01\n",
      "  3.64915848e-01  4.52779770e-01  5.49842834e-01  5.54824829e-01\n",
      "  5.90576172e-01  3.59371185e-01  3.68453979e-01  4.27495956e-01\n",
      "  3.83777618e-01  5.77318192e-01  4.20392990e-01  5.25764465e-01\n",
      "  4.03512955e-01  4.84123230e-01  5.12020111e-01  6.29421234e-01\n",
      "  4.41352844e-01  4.10602570e-01  3.82841110e-01  4.95138168e-01\n",
      "  4.23301697e-01  4.66039658e-01  4.82208252e-01  4.85977173e-01\n",
      "  5.13349533e-01  5.93700409e-01  7.33400345e-01  5.04995346e-01\n",
      "  5.01041412e-01  5.01861572e-01  6.21671677e-01  5.41276932e-01\n",
      "  5.49665451e-01  5.49842834e-01  6.54918671e-01  6.63526535e-01\n",
      "  6.32070541e-01  7.49752045e-01  7.14340210e-01  8.93625259e-01\n",
      "  7.10365295e-01  7.11257935e-01  7.57970810e-01  7.74341583e-01\n",
      "  2.23363876e-01  3.77349854e-02  1.79468155e-01  8.96987915e-02\n",
      "  9.02194977e-02  1.73721313e-01  1.08943939e-01  2.49425888e-01\n",
      "  3.22172165e-01  2.16249466e-01  1.25982285e-01  1.43085480e-01\n",
      "  1.72285080e-01  1.42366409e-01  1.47455215e-01  1.51893616e-01\n",
      "  1.21053696e-01  1.79475784e-01  2.15740204e-01  2.27798462e-01\n",
      "  1.90578461e-01  1.56656265e-01  2.97153473e-01  1.64913177e-01\n",
      "  2.73788452e-01  1.61067963e-01  2.38042831e-01  2.03767776e-01\n",
      "  2.08560944e-01  2.50759125e-01  2.60480881e-01  1.77532196e-01\n",
      "  2.48657227e-01  1.86088562e-01  1.94112778e-01  2.37987518e-01\n",
      "  1.93164825e-01  1.89592361e-01  2.00160980e-01  2.29993820e-01\n",
      "  2.09154129e-01  3.41527939e-01  2.11811066e-01  3.02597046e-01\n",
      "  3.29385757e-01  2.12623596e-01  2.32120514e-01  1.89245224e-01\n",
      "  1.98057175e-01  2.15183258e-01  2.21809387e-01  2.16402054e-01\n",
      "  2.88370132e-01  2.30833054e-01  2.29103088e-01  3.35527420e-01\n",
      "  4.12889481e-01  4.11832809e-01  2.17803955e-01  2.48336792e-01\n",
      "  2.48947144e-01  2.72417068e-01  2.77786255e-01  2.05429077e-01\n",
      "  2.29974747e-01  2.31935501e-01  2.64150620e-01  2.20108032e-01\n",
      "  2.39696503e-01  1.98169708e-01  2.48624802e-01  2.11729050e-01\n",
      "  3.01549911e-01  2.41659164e-01  1.98108673e-01  2.60208130e-01\n",
      "  2.99274445e-01  2.44155884e-01  2.67143250e-01  2.39635468e-01\n",
      "  2.25559235e-01  2.61224747e-01  2.83540726e-01  2.66160965e-01\n",
      "  2.46162415e-01  2.44741440e-01  2.73399353e-01  2.73956299e-01\n",
      "  2.87010193e-01  3.59928131e-01  3.66601944e-01  2.43314743e-01\n",
      "  2.92684555e-01  3.03367615e-01  2.67354965e-01  2.67066956e-01\n",
      "  2.75142670e-01  4.89946365e-01  2.95646667e-01  3.16896439e-01\n",
      "  3.38926315e-01  4.32317734e-01  2.96260834e-01  3.70923996e-01\n",
      "  3.25550079e-01  3.33721161e-01  3.12643051e-01  3.40902328e-01\n",
      "  3.17630768e-01  3.46847534e-01  3.73575211e-01  4.36883926e-01\n",
      "  4.48751450e-01  4.53512192e-01  3.29986572e-01  3.52901459e-01\n",
      "  3.45270157e-01  3.44383240e-01  3.41756821e-01  3.61694336e-01\n",
      "  3.32124710e-01  3.65015030e-01  4.34593201e-01  3.74094009e-01\n",
      "  4.58358765e-01  3.48529816e-01  3.78414154e-01  3.94811630e-01\n",
      "  3.96541595e-01  4.03774261e-01  4.42081451e-01  4.25836563e-01\n",
      "  4.04293060e-01  4.22958374e-01  4.64143753e-01  4.66682434e-01\n",
      "  4.60529327e-01  4.78223801e-01  4.92328644e-01  4.88845825e-01\n",
      "  5.93826294e-01  4.83943939e-01  5.73818207e-01] 0      0.000000\n",
      "1      0.102941\n",
      "2      0.109375\n",
      "3      0.160714\n",
      "4      0.000000\n",
      "         ...   \n",
      "306    0.482143\n",
      "307    0.500000\n",
      "308    0.605263\n",
      "309    0.482143\n",
      "310    0.571429\n",
      "Name: complexity, Length: 311, dtype: float64\n"
     ]
    }
   ],
   "source": [
    "print(trial_predictions, trial_complexity)"
   ]
  },
  {
   "cell_type": "code",
   "execution_count": 35,
   "metadata": {},
   "outputs": [
    {
     "name": "stdout",
     "output_type": "stream",
     "text": [
      "Train R^2 0.12408685543244569\n",
      "Train L1: 0.09685625823011904\n"
     ]
    }
   ],
   "source": [
    "from sklearn.neural_network import MLPRegressor\n",
    "from sklearn.datasets import make_regression\n",
    "from sklearn.model_selection import train_test_split\n",
    "\n",
    "df = pd.read_csv('lcp_single_train.tsv', delimiter='\\t')\n",
    "complexity = df['complexity']\n",
    "sentences = df['sentence']\n",
    "\n",
    "regr = MLPRegressor(hidden_layer_sizes=(500,)).fit(embeddings, complexity)\n",
    "predictions = regr.predict(embeddings)\n",
    "print(\"Train R^2\", regr.score(embeddings, complexity))\n",
    "print(\"Train L1:\", np.mean(np.abs(predictions - complexity)))\n"
   ]
  },
  {
   "cell_type": "code",
   "execution_count": null,
   "metadata": {},
   "outputs": [],
   "source": []
  }
 ],
 "metadata": {
  "kernelspec": {
   "display_name": "Python 3",
   "language": "python",
   "name": "python3"
  },
  "language_info": {
   "codemirror_mode": {
    "name": "ipython",
    "version": 3
   },
   "file_extension": ".py",
   "mimetype": "text/x-python",
   "name": "python",
   "nbconvert_exporter": "python",
   "pygments_lexer": "ipython3",
   "version": "3.8.3"
  }
 },
 "nbformat": 4,
 "nbformat_minor": 4
}
