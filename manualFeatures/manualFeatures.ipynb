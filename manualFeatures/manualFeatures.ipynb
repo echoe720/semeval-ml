{
 "cells": [
  {
   "cell_type": "code",
   "execution_count": 2,
   "metadata": {},
   "outputs": [],
   "source": [
    "import pandas as pd\n",
    "import numpy as np\n",
    "from torchtext.vocab import GloVe\n",
    "import time\n",
    "from sklearn.linear_model import LinearRegression\n",
    "import matplotlib.pyplot as plt\n",
    "import csv\n",
    "from sklearn.linear_model import Ridge"
   ]
  },
  {
   "cell_type": "markdown",
   "metadata": {},
   "source": [
    "#### Global, One-time declarations"
   ]
  },
  {
   "cell_type": "code",
   "execution_count": 5,
   "metadata": {},
   "outputs": [
    {
     "output_type": "error",
     "ename": "OSError",
     "evalue": "[Errno 28] No space left on device",
     "traceback": [
      "\u001b[0;31m---------------------------------------------------------------------------\u001b[0m",
      "\u001b[0;31mOSError\u001b[0m                                   Traceback (most recent call last)",
      "\u001b[0;32m<ipython-input-5-4d02a4dce431>\u001b[0m in \u001b[0;36m<module>\u001b[0;34m\u001b[0m\n\u001b[1;32m      2\u001b[0m \u001b[0mdf_trial\u001b[0m \u001b[0;34m=\u001b[0m \u001b[0mpd\u001b[0m\u001b[0;34m.\u001b[0m\u001b[0mread_csv\u001b[0m\u001b[0;34m(\u001b[0m\u001b[0;34m'../datasets/lcp_single_trial.tsv'\u001b[0m\u001b[0;34m,\u001b[0m \u001b[0mdelimiter\u001b[0m\u001b[0;34m=\u001b[0m\u001b[0;34m'\\t'\u001b[0m\u001b[0;34m)\u001b[0m\u001b[0;34m\u001b[0m\u001b[0;34m\u001b[0m\u001b[0m\n\u001b[1;32m      3\u001b[0m \u001b[0;31m#------------------------------------------------------------------------------\u001b[0m\u001b[0;34m\u001b[0m\u001b[0;34m\u001b[0m\u001b[0;34m\u001b[0m\u001b[0m\n\u001b[0;32m----> 4\u001b[0;31m \u001b[0mglove\u001b[0m \u001b[0;34m=\u001b[0m \u001b[0mGloVe\u001b[0m\u001b[0;34m(\u001b[0m\u001b[0mcache\u001b[0m\u001b[0;34m=\u001b[0m\u001b[0;34m'../u/scr/ethanchi/GloVe'\u001b[0m\u001b[0;34m)\u001b[0m\u001b[0;34m\u001b[0m\u001b[0;34m\u001b[0m\u001b[0m\n\u001b[0m\u001b[1;32m      5\u001b[0m \u001b[0;31m#------------------------------------------------------------------------------\u001b[0m\u001b[0;34m\u001b[0m\u001b[0;34m\u001b[0m\u001b[0;34m\u001b[0m\u001b[0m\n\u001b[1;32m      6\u001b[0m \u001b[0mdf\u001b[0m\u001b[0;34m[\u001b[0m\u001b[0;34m'glove'\u001b[0m\u001b[0;34m]\u001b[0m \u001b[0;34m=\u001b[0m \u001b[0mdf\u001b[0m\u001b[0;34m.\u001b[0m\u001b[0mapply\u001b[0m\u001b[0;34m(\u001b[0m\u001b[0;32mlambda\u001b[0m \u001b[0mrow\u001b[0m\u001b[0;34m:\u001b[0m \u001b[0mglove\u001b[0m\u001b[0;34m[\u001b[0m\u001b[0mrow\u001b[0m\u001b[0;34m[\u001b[0m\u001b[0;34m'token'\u001b[0m\u001b[0;34m]\u001b[0m\u001b[0;34m]\u001b[0m\u001b[0;34m.\u001b[0m\u001b[0mnumpy\u001b[0m\u001b[0;34m(\u001b[0m\u001b[0;34m)\u001b[0m\u001b[0;34m,\u001b[0m \u001b[0maxis\u001b[0m\u001b[0;34m=\u001b[0m\u001b[0;36m1\u001b[0m\u001b[0;34m)\u001b[0m\u001b[0;34m\u001b[0m\u001b[0;34m\u001b[0m\u001b[0m\n",
      "\u001b[0;32m/Applications/anaconda3/lib/python3.8/site-packages/torchtext/vocab.py\u001b[0m in \u001b[0;36m__init__\u001b[0;34m(self, name, dim, **kwargs)\u001b[0m\n\u001b[1;32m    485\u001b[0m         \u001b[0murl\u001b[0m \u001b[0;34m=\u001b[0m \u001b[0mself\u001b[0m\u001b[0;34m.\u001b[0m\u001b[0murl\u001b[0m\u001b[0;34m[\u001b[0m\u001b[0mname\u001b[0m\u001b[0;34m]\u001b[0m\u001b[0;34m\u001b[0m\u001b[0;34m\u001b[0m\u001b[0m\n\u001b[1;32m    486\u001b[0m         \u001b[0mname\u001b[0m \u001b[0;34m=\u001b[0m \u001b[0;34m'glove.{}.{}d.txt'\u001b[0m\u001b[0;34m.\u001b[0m\u001b[0mformat\u001b[0m\u001b[0;34m(\u001b[0m\u001b[0mname\u001b[0m\u001b[0;34m,\u001b[0m \u001b[0mstr\u001b[0m\u001b[0;34m(\u001b[0m\u001b[0mdim\u001b[0m\u001b[0;34m)\u001b[0m\u001b[0;34m)\u001b[0m\u001b[0;34m\u001b[0m\u001b[0;34m\u001b[0m\u001b[0m\n\u001b[0;32m--> 487\u001b[0;31m         \u001b[0msuper\u001b[0m\u001b[0;34m(\u001b[0m\u001b[0mGloVe\u001b[0m\u001b[0;34m,\u001b[0m \u001b[0mself\u001b[0m\u001b[0;34m)\u001b[0m\u001b[0;34m.\u001b[0m\u001b[0m__init__\u001b[0m\u001b[0;34m(\u001b[0m\u001b[0mname\u001b[0m\u001b[0;34m,\u001b[0m \u001b[0murl\u001b[0m\u001b[0;34m=\u001b[0m\u001b[0murl\u001b[0m\u001b[0;34m,\u001b[0m \u001b[0;34m**\u001b[0m\u001b[0mkwargs\u001b[0m\u001b[0;34m)\u001b[0m\u001b[0;34m\u001b[0m\u001b[0;34m\u001b[0m\u001b[0m\n\u001b[0m\u001b[1;32m    488\u001b[0m \u001b[0;34m\u001b[0m\u001b[0m\n\u001b[1;32m    489\u001b[0m \u001b[0;34m\u001b[0m\u001b[0m\n",
      "\u001b[0;32m/Applications/anaconda3/lib/python3.8/site-packages/torchtext/vocab.py\u001b[0m in \u001b[0;36m__init__\u001b[0;34m(self, name, cache, url, unk_init, max_vectors)\u001b[0m\n\u001b[1;32m    324\u001b[0m         \u001b[0mself\u001b[0m\u001b[0;34m.\u001b[0m\u001b[0mdim\u001b[0m \u001b[0;34m=\u001b[0m \u001b[0;32mNone\u001b[0m\u001b[0;34m\u001b[0m\u001b[0;34m\u001b[0m\u001b[0m\n\u001b[1;32m    325\u001b[0m         \u001b[0mself\u001b[0m\u001b[0;34m.\u001b[0m\u001b[0munk_init\u001b[0m \u001b[0;34m=\u001b[0m \u001b[0mtorch\u001b[0m\u001b[0;34m.\u001b[0m\u001b[0mTensor\u001b[0m\u001b[0;34m.\u001b[0m\u001b[0mzero_\u001b[0m \u001b[0;32mif\u001b[0m \u001b[0munk_init\u001b[0m \u001b[0;32mis\u001b[0m \u001b[0;32mNone\u001b[0m \u001b[0;32melse\u001b[0m \u001b[0munk_init\u001b[0m\u001b[0;34m\u001b[0m\u001b[0;34m\u001b[0m\u001b[0m\n\u001b[0;32m--> 326\u001b[0;31m         \u001b[0mself\u001b[0m\u001b[0;34m.\u001b[0m\u001b[0mcache\u001b[0m\u001b[0;34m(\u001b[0m\u001b[0mname\u001b[0m\u001b[0;34m,\u001b[0m \u001b[0mcache\u001b[0m\u001b[0;34m,\u001b[0m \u001b[0murl\u001b[0m\u001b[0;34m=\u001b[0m\u001b[0murl\u001b[0m\u001b[0;34m,\u001b[0m \u001b[0mmax_vectors\u001b[0m\u001b[0;34m=\u001b[0m\u001b[0mmax_vectors\u001b[0m\u001b[0;34m)\u001b[0m\u001b[0;34m\u001b[0m\u001b[0;34m\u001b[0m\u001b[0m\n\u001b[0m\u001b[1;32m    327\u001b[0m \u001b[0;34m\u001b[0m\u001b[0m\n\u001b[1;32m    328\u001b[0m     \u001b[0;32mdef\u001b[0m \u001b[0m__getitem__\u001b[0m\u001b[0;34m(\u001b[0m\u001b[0mself\u001b[0m\u001b[0;34m,\u001b[0m \u001b[0mtoken\u001b[0m\u001b[0;34m)\u001b[0m\u001b[0;34m:\u001b[0m\u001b[0;34m\u001b[0m\u001b[0;34m\u001b[0m\u001b[0m\n",
      "\u001b[0;32m/Applications/anaconda3/lib/python3.8/site-packages/torchtext/vocab.py\u001b[0m in \u001b[0;36mcache\u001b[0;34m(self, name, cache, url, max_vectors)\u001b[0m\n\u001b[1;32m    367\u001b[0m                 \u001b[0;32mif\u001b[0m \u001b[0mext\u001b[0m \u001b[0;34m==\u001b[0m \u001b[0;34m'zip'\u001b[0m\u001b[0;34m:\u001b[0m\u001b[0;34m\u001b[0m\u001b[0;34m\u001b[0m\u001b[0m\n\u001b[1;32m    368\u001b[0m                     \u001b[0;32mwith\u001b[0m \u001b[0mzipfile\u001b[0m\u001b[0;34m.\u001b[0m\u001b[0mZipFile\u001b[0m\u001b[0;34m(\u001b[0m\u001b[0mdest\u001b[0m\u001b[0;34m,\u001b[0m \u001b[0;34m\"r\"\u001b[0m\u001b[0;34m)\u001b[0m \u001b[0;32mas\u001b[0m \u001b[0mzf\u001b[0m\u001b[0;34m:\u001b[0m\u001b[0;34m\u001b[0m\u001b[0;34m\u001b[0m\u001b[0m\n\u001b[0;32m--> 369\u001b[0;31m                         \u001b[0mzf\u001b[0m\u001b[0;34m.\u001b[0m\u001b[0mextractall\u001b[0m\u001b[0;34m(\u001b[0m\u001b[0mcache\u001b[0m\u001b[0;34m)\u001b[0m\u001b[0;34m\u001b[0m\u001b[0;34m\u001b[0m\u001b[0m\n\u001b[0m\u001b[1;32m    370\u001b[0m                 \u001b[0;32melif\u001b[0m \u001b[0mext\u001b[0m \u001b[0;34m==\u001b[0m \u001b[0;34m'gz'\u001b[0m\u001b[0;34m:\u001b[0m\u001b[0;34m\u001b[0m\u001b[0;34m\u001b[0m\u001b[0m\n\u001b[1;32m    371\u001b[0m                     \u001b[0;32mif\u001b[0m \u001b[0mdest\u001b[0m\u001b[0;34m.\u001b[0m\u001b[0mendswith\u001b[0m\u001b[0;34m(\u001b[0m\u001b[0;34m'.tar.gz'\u001b[0m\u001b[0;34m)\u001b[0m\u001b[0;34m:\u001b[0m\u001b[0;34m\u001b[0m\u001b[0;34m\u001b[0m\u001b[0m\n",
      "\u001b[0;32m/Applications/anaconda3/lib/python3.8/zipfile.py\u001b[0m in \u001b[0;36mextractall\u001b[0;34m(self, path, members, pwd)\u001b[0m\n\u001b[1;32m   1644\u001b[0m \u001b[0;34m\u001b[0m\u001b[0m\n\u001b[1;32m   1645\u001b[0m         \u001b[0;32mfor\u001b[0m \u001b[0mzipinfo\u001b[0m \u001b[0;32min\u001b[0m \u001b[0mmembers\u001b[0m\u001b[0;34m:\u001b[0m\u001b[0;34m\u001b[0m\u001b[0;34m\u001b[0m\u001b[0m\n\u001b[0;32m-> 1646\u001b[0;31m             \u001b[0mself\u001b[0m\u001b[0;34m.\u001b[0m\u001b[0m_extract_member\u001b[0m\u001b[0;34m(\u001b[0m\u001b[0mzipinfo\u001b[0m\u001b[0;34m,\u001b[0m \u001b[0mpath\u001b[0m\u001b[0;34m,\u001b[0m \u001b[0mpwd\u001b[0m\u001b[0;34m)\u001b[0m\u001b[0;34m\u001b[0m\u001b[0;34m\u001b[0m\u001b[0m\n\u001b[0m\u001b[1;32m   1647\u001b[0m \u001b[0;34m\u001b[0m\u001b[0m\n\u001b[1;32m   1648\u001b[0m     \u001b[0;34m@\u001b[0m\u001b[0mclassmethod\u001b[0m\u001b[0;34m\u001b[0m\u001b[0;34m\u001b[0m\u001b[0m\n",
      "\u001b[0;32m/Applications/anaconda3/lib/python3.8/zipfile.py\u001b[0m in \u001b[0;36m_extract_member\u001b[0;34m(self, member, targetpath, pwd)\u001b[0m\n\u001b[1;32m   1699\u001b[0m         \u001b[0;32mwith\u001b[0m \u001b[0mself\u001b[0m\u001b[0;34m.\u001b[0m\u001b[0mopen\u001b[0m\u001b[0;34m(\u001b[0m\u001b[0mmember\u001b[0m\u001b[0;34m,\u001b[0m \u001b[0mpwd\u001b[0m\u001b[0;34m=\u001b[0m\u001b[0mpwd\u001b[0m\u001b[0;34m)\u001b[0m \u001b[0;32mas\u001b[0m \u001b[0msource\u001b[0m\u001b[0;34m,\u001b[0m\u001b[0;31m \u001b[0m\u001b[0;31m\\\u001b[0m\u001b[0;34m\u001b[0m\u001b[0;34m\u001b[0m\u001b[0m\n\u001b[1;32m   1700\u001b[0m              \u001b[0mopen\u001b[0m\u001b[0;34m(\u001b[0m\u001b[0mtargetpath\u001b[0m\u001b[0;34m,\u001b[0m \u001b[0;34m\"wb\"\u001b[0m\u001b[0;34m)\u001b[0m \u001b[0;32mas\u001b[0m \u001b[0mtarget\u001b[0m\u001b[0;34m:\u001b[0m\u001b[0;34m\u001b[0m\u001b[0;34m\u001b[0m\u001b[0m\n\u001b[0;32m-> 1701\u001b[0;31m             \u001b[0mshutil\u001b[0m\u001b[0;34m.\u001b[0m\u001b[0mcopyfileobj\u001b[0m\u001b[0;34m(\u001b[0m\u001b[0msource\u001b[0m\u001b[0;34m,\u001b[0m \u001b[0mtarget\u001b[0m\u001b[0;34m)\u001b[0m\u001b[0;34m\u001b[0m\u001b[0;34m\u001b[0m\u001b[0m\n\u001b[0m\u001b[1;32m   1702\u001b[0m \u001b[0;34m\u001b[0m\u001b[0m\n\u001b[1;32m   1703\u001b[0m         \u001b[0;32mreturn\u001b[0m \u001b[0mtargetpath\u001b[0m\u001b[0;34m\u001b[0m\u001b[0;34m\u001b[0m\u001b[0m\n",
      "\u001b[0;32m/Applications/anaconda3/lib/python3.8/shutil.py\u001b[0m in \u001b[0;36mcopyfileobj\u001b[0;34m(fsrc, fdst, length)\u001b[0m\n\u001b[1;32m    203\u001b[0m         \u001b[0;32mif\u001b[0m \u001b[0;32mnot\u001b[0m \u001b[0mbuf\u001b[0m\u001b[0;34m:\u001b[0m\u001b[0;34m\u001b[0m\u001b[0;34m\u001b[0m\u001b[0m\n\u001b[1;32m    204\u001b[0m             \u001b[0;32mbreak\u001b[0m\u001b[0;34m\u001b[0m\u001b[0;34m\u001b[0m\u001b[0m\n\u001b[0;32m--> 205\u001b[0;31m         \u001b[0mfdst_write\u001b[0m\u001b[0;34m(\u001b[0m\u001b[0mbuf\u001b[0m\u001b[0;34m)\u001b[0m\u001b[0;34m\u001b[0m\u001b[0;34m\u001b[0m\u001b[0m\n\u001b[0m\u001b[1;32m    206\u001b[0m \u001b[0;34m\u001b[0m\u001b[0m\n\u001b[1;32m    207\u001b[0m \u001b[0;32mdef\u001b[0m \u001b[0m_samefile\u001b[0m\u001b[0;34m(\u001b[0m\u001b[0msrc\u001b[0m\u001b[0;34m,\u001b[0m \u001b[0mdst\u001b[0m\u001b[0;34m)\u001b[0m\u001b[0;34m:\u001b[0m\u001b[0;34m\u001b[0m\u001b[0;34m\u001b[0m\u001b[0m\n",
      "\u001b[0;31mOSError\u001b[0m: [Errno 28] No space left on device"
     ]
    }
   ],
   "source": [
    "df = pd.read_csv('../datasets/lcp_single_train.tsv', delimiter='\\t')\n",
    "df_trial = pd.read_csv('../datasets/lcp_single_trial.tsv', delimiter='\\t')\n",
    "#------------------------------------------------------------------------------\n",
    "glove = GloVe(cache='../u/scr/ethanchi/GloVe')\n",
    "#------------------------------------------------------------------------------\n",
    "df['glove'] = df.apply(lambda row: glove[row['token']].numpy(), axis=1)\n",
    "df_trial['glove'] = df_trial.apply(lambda row: glove[row['token']].numpy(), axis=1)\n",
    "gloveMatrix = np.stack(df['glove'].tolist())\n",
    "gloveMatrix_trial = np.stack(df_trial['glove'].tolist())\n",
    "#------------------------------------------------------------------------------\n",
    "complexity = df['complexity']\n",
    "trial_complexity = df_trial['complexity']\n",
    "#------------------------------------------------------------------------------\n",
    "linreg = LinearRegression()\n",
    "clf = Ridge(alpha=30)\n",
    "#------------------------------------------------------------------------------\n",
    "f = open('../datasets/unigram_freq.csv')\n",
    "reader = csv.reader(f)\n",
    "#------------------------------------------------------------------------------\n",
    "wordToCounts = {}\n",
    "for row in reader: wordToCounts[row[0]] = row[1]\n",
    "    "
   ]
  },
  {
   "cell_type": "markdown",
   "metadata": {},
   "source": [
    "#### Declaring all manual features:"
   ]
  },
  {
   "cell_type": "code",
   "execution_count": 4,
   "metadata": {},
   "outputs": [],
   "source": [
    "freqCounts = [wordToCounts[str(word).lower()] \n",
    "               if str(word).lower() in wordToCounts else 0.0001 \n",
    "               for word in df['token'].tolist()]  \n",
    "freqCounts = np.reshape(np.array(freqCounts, dtype='float64'), (len(complexity), 1)) \n",
    "trial_freqCounts = [wordToCounts[str(word).lower()] if str(word).lower() in wordToCounts else 0.0001 for word in df_trial['token'].tolist()]\n",
    "trial_freqCounts = np.reshape(np.array(trial_freqCounts, dtype='float64'), (len(trial_complexity), 1))\n",
    "\n",
    "#------------------------------------------------------------------------------\n",
    "charCounts = np.reshape(np.array([len(str(word)) for word in df['token']]), (len(complexity), 1))\n",
    "trial_charCounts = np.reshape(np.array([len(str(word)) for word in df_trial['token']], dtype='float64'), (len(trial_complexity), 1))\n",
    "#------------------------------------------------------------------------------\n",
    "capitalCounts = []\n",
    "for word in df['token']:\n",
    "    count = 0\n",
    "    for ch in str(word):\n",
    "        if ch.isupper():\n",
    "            count += 1\n",
    "    capitalCounts.append(count)\n",
    "    \n",
    "capitalCounts = np.reshape(np.array(capitalCounts), (len(complexity), 1))\n",
    "                           \n",
    "trial_capCounts = []\n",
    "for word in df_trial['token']:\n",
    "    count = 0\n",
    "    for ch in str(word):\n",
    "        if ch.isupper():\n",
    "            count += 1\n",
    "    trial_capCounts.append(count)\n",
    "                           \n",
    "trial_capCounts = np.reshape(np.array(trial_capCounts), (len(trial_complexity), 1))"
   ]
  },
  {
   "cell_type": "markdown",
   "metadata": {},
   "source": [
    "## Feature 1: Frequency + Glove"
   ]
  },
  {
   "cell_type": "code",
   "execution_count": 6,
   "metadata": {},
   "outputs": [],
   "source": [
    "#Glove matrix + frequency feature as final column\n",
    "training_data = np.append(gloveMatrix, freqCounts, axis=1)\n"
   ]
  },
  {
   "cell_type": "code",
   "execution_count": 7,
   "metadata": {},
   "outputs": [],
   "source": [
    "#Training \n",
    "linreg.fit(training_data, complexity)\n",
    "predictions = linreg.predict(training_data)\n",
    "\n",
    "# clf.fit(training_data, complexity)\n",
    "# predictions = clf.predict(training_data)\n"
   ]
  },
  {
   "cell_type": "code",
   "execution_count": 8,
   "metadata": {},
   "outputs": [
    {
     "output_type": "stream",
     "name": "stdout",
     "text": [
      "Train R^2 0.6117951321590469\nTrain L2: 0.0648315827814454\nTrial R^2: 0.6192870073895786\nTrial L2: 0.07189836941729494\n"
     ]
    }
   ],
   "source": [
    "# eval on trial data\n",
    "trial_data = np.append(gloveMatrix_trial, trial_freqCounts, axis=1)\n",
    "trial_predictions = linreg.predict(trial_data)\n",
    "\n",
    "print(\"Train R^2\", linreg.score(training_data, complexity))\n",
    "print(\"Train L2:\", np.mean(np.abs(predictions - complexity)))\n",
    "print(\"Trial R^2:\", linreg.score(trial_data, trial_complexity))\n",
    "print(\"Trial L2:\", np.mean(np.abs(trial_predictions - trial_complexity)))"
   ]
  },
  {
   "cell_type": "code",
   "execution_count": 9,
   "metadata": {},
   "outputs": [
    {
     "output_type": "execute_result",
     "data": {
      "text/plain": [
       "[<matplotlib.lines.Line2D at 0x7fe2f7a74820>]"
      ]
     },
     "metadata": {},
     "execution_count": 9
    },
    {
     "output_type": "display_data",
     "data": {
      "text/plain": "<Figure size 432x288 with 1 Axes>",
      "image/svg+xml": "<?xml version=\"1.0\" encoding=\"utf-8\" standalone=\"no\"?>\n<!DOCTYPE svg PUBLIC \"-//W3C//DTD SVG 1.1//EN\"\n  \"http://www.w3.org/Graphics/SVG/1.1/DTD/svg11.dtd\">\n<!-- Created with matplotlib (https://matplotlib.org/) -->\n<svg height=\"248.518125pt\" version=\"1.1\" viewBox=\"0 0 372.103125 248.518125\" width=\"372.103125pt\" xmlns=\"http://www.w3.org/2000/svg\" xmlns:xlink=\"http://www.w3.org/1999/xlink\">\n <defs>\n  <style type=\"text/css\">\n*{stroke-linecap:butt;stroke-linejoin:round;}\n  </style>\n </defs>\n <g id=\"figure_1\">\n  <g id=\"patch_1\">\n   <path d=\"M 0 248.518125 \nL 372.103125 248.518125 \nL 372.103125 0 \nL 0 0 \nz\n\" style=\"fill:none;\"/>\n  </g>\n  <g id=\"axes_1\">\n   <g id=\"patch_2\">\n    <path d=\"M 30.103125 224.64 \nL 364.903125 224.64 \nL 364.903125 7.2 \nL 30.103125 7.2 \nz\n\" style=\"fill:#ffffff;\"/>\n   </g>\n   <g id=\"matplotlib.axis_1\">\n    <g id=\"xtick_1\">\n     <g id=\"line2d_1\">\n      <defs>\n       <path d=\"M 0 0 \nL 0 3.5 \n\" id=\"m7030bd0f52\" style=\"stroke:#000000;stroke-width:0.8;\"/>\n      </defs>\n      <g>\n       <use style=\"stroke:#000000;stroke-width:0.8;\" x=\"31.278009\" xlink:href=\"#m7030bd0f52\" y=\"224.64\"/>\n      </g>\n     </g>\n     <g id=\"text_1\">\n      <!-- 0.1 -->\n      <defs>\n       <path d=\"M 31.78125 66.40625 \nQ 24.171875 66.40625 20.328125 58.90625 \nQ 16.5 51.421875 16.5 36.375 \nQ 16.5 21.390625 20.328125 13.890625 \nQ 24.171875 6.390625 31.78125 6.390625 \nQ 39.453125 6.390625 43.28125 13.890625 \nQ 47.125 21.390625 47.125 36.375 \nQ 47.125 51.421875 43.28125 58.90625 \nQ 39.453125 66.40625 31.78125 66.40625 \nz\nM 31.78125 74.21875 \nQ 44.046875 74.21875 50.515625 64.515625 \nQ 56.984375 54.828125 56.984375 36.375 \nQ 56.984375 17.96875 50.515625 8.265625 \nQ 44.046875 -1.421875 31.78125 -1.421875 \nQ 19.53125 -1.421875 13.0625 8.265625 \nQ 6.59375 17.96875 6.59375 36.375 \nQ 6.59375 54.828125 13.0625 64.515625 \nQ 19.53125 74.21875 31.78125 74.21875 \nz\n\" id=\"DejaVuSans-48\"/>\n       <path d=\"M 10.6875 12.40625 \nL 21 12.40625 \nL 21 0 \nL 10.6875 0 \nz\n\" id=\"DejaVuSans-46\"/>\n       <path d=\"M 12.40625 8.296875 \nL 28.515625 8.296875 \nL 28.515625 63.921875 \nL 10.984375 60.40625 \nL 10.984375 69.390625 \nL 28.421875 72.90625 \nL 38.28125 72.90625 \nL 38.28125 8.296875 \nL 54.390625 8.296875 \nL 54.390625 0 \nL 12.40625 0 \nz\n\" id=\"DejaVuSans-49\"/>\n      </defs>\n      <g transform=\"translate(23.326447 239.238437)scale(0.1 -0.1)\">\n       <use xlink:href=\"#DejaVuSans-48\"/>\n       <use x=\"63.623047\" xlink:href=\"#DejaVuSans-46\"/>\n       <use x=\"95.410156\" xlink:href=\"#DejaVuSans-49\"/>\n      </g>\n     </g>\n    </g>\n    <g id=\"xtick_2\">\n     <g id=\"line2d_2\">\n      <g>\n       <use style=\"stroke:#000000;stroke-width:0.8;\" x=\"100.779544\" xlink:href=\"#m7030bd0f52\" y=\"224.64\"/>\n      </g>\n     </g>\n     <g id=\"text_2\">\n      <!-- 0.2 -->\n      <defs>\n       <path d=\"M 19.1875 8.296875 \nL 53.609375 8.296875 \nL 53.609375 0 \nL 7.328125 0 \nL 7.328125 8.296875 \nQ 12.9375 14.109375 22.625 23.890625 \nQ 32.328125 33.6875 34.8125 36.53125 \nQ 39.546875 41.84375 41.421875 45.53125 \nQ 43.3125 49.21875 43.3125 52.78125 \nQ 43.3125 58.59375 39.234375 62.25 \nQ 35.15625 65.921875 28.609375 65.921875 \nQ 23.96875 65.921875 18.8125 64.3125 \nQ 13.671875 62.703125 7.8125 59.421875 \nL 7.8125 69.390625 \nQ 13.765625 71.78125 18.9375 73 \nQ 24.125 74.21875 28.421875 74.21875 \nQ 39.75 74.21875 46.484375 68.546875 \nQ 53.21875 62.890625 53.21875 53.421875 \nQ 53.21875 48.921875 51.53125 44.890625 \nQ 49.859375 40.875 45.40625 35.40625 \nQ 44.1875 33.984375 37.640625 27.21875 \nQ 31.109375 20.453125 19.1875 8.296875 \nz\n\" id=\"DejaVuSans-50\"/>\n      </defs>\n      <g transform=\"translate(92.827981 239.238437)scale(0.1 -0.1)\">\n       <use xlink:href=\"#DejaVuSans-48\"/>\n       <use x=\"63.623047\" xlink:href=\"#DejaVuSans-46\"/>\n       <use x=\"95.410156\" xlink:href=\"#DejaVuSans-50\"/>\n      </g>\n     </g>\n    </g>\n    <g id=\"xtick_3\">\n     <g id=\"line2d_3\">\n      <g>\n       <use style=\"stroke:#000000;stroke-width:0.8;\" x=\"170.281079\" xlink:href=\"#m7030bd0f52\" y=\"224.64\"/>\n      </g>\n     </g>\n     <g id=\"text_3\">\n      <!-- 0.3 -->\n      <defs>\n       <path d=\"M 40.578125 39.3125 \nQ 47.65625 37.796875 51.625 33 \nQ 55.609375 28.21875 55.609375 21.1875 \nQ 55.609375 10.40625 48.1875 4.484375 \nQ 40.765625 -1.421875 27.09375 -1.421875 \nQ 22.515625 -1.421875 17.65625 -0.515625 \nQ 12.796875 0.390625 7.625 2.203125 \nL 7.625 11.71875 \nQ 11.71875 9.328125 16.59375 8.109375 \nQ 21.484375 6.890625 26.8125 6.890625 \nQ 36.078125 6.890625 40.9375 10.546875 \nQ 45.796875 14.203125 45.796875 21.1875 \nQ 45.796875 27.640625 41.28125 31.265625 \nQ 36.765625 34.90625 28.71875 34.90625 \nL 20.21875 34.90625 \nL 20.21875 43.015625 \nL 29.109375 43.015625 \nQ 36.375 43.015625 40.234375 45.921875 \nQ 44.09375 48.828125 44.09375 54.296875 \nQ 44.09375 59.90625 40.109375 62.90625 \nQ 36.140625 65.921875 28.71875 65.921875 \nQ 24.65625 65.921875 20.015625 65.03125 \nQ 15.375 64.15625 9.8125 62.3125 \nL 9.8125 71.09375 \nQ 15.4375 72.65625 20.34375 73.4375 \nQ 25.25 74.21875 29.59375 74.21875 \nQ 40.828125 74.21875 47.359375 69.109375 \nQ 53.90625 64.015625 53.90625 55.328125 \nQ 53.90625 49.265625 50.4375 45.09375 \nQ 46.96875 40.921875 40.578125 39.3125 \nz\n\" id=\"DejaVuSans-51\"/>\n      </defs>\n      <g transform=\"translate(162.329516 239.238437)scale(0.1 -0.1)\">\n       <use xlink:href=\"#DejaVuSans-48\"/>\n       <use x=\"63.623047\" xlink:href=\"#DejaVuSans-46\"/>\n       <use x=\"95.410156\" xlink:href=\"#DejaVuSans-51\"/>\n      </g>\n     </g>\n    </g>\n    <g id=\"xtick_4\">\n     <g id=\"line2d_4\">\n      <g>\n       <use style=\"stroke:#000000;stroke-width:0.8;\" x=\"239.782614\" xlink:href=\"#m7030bd0f52\" y=\"224.64\"/>\n      </g>\n     </g>\n     <g id=\"text_4\">\n      <!-- 0.4 -->\n      <defs>\n       <path d=\"M 37.796875 64.3125 \nL 12.890625 25.390625 \nL 37.796875 25.390625 \nz\nM 35.203125 72.90625 \nL 47.609375 72.90625 \nL 47.609375 25.390625 \nL 58.015625 25.390625 \nL 58.015625 17.1875 \nL 47.609375 17.1875 \nL 47.609375 0 \nL 37.796875 0 \nL 37.796875 17.1875 \nL 4.890625 17.1875 \nL 4.890625 26.703125 \nz\n\" id=\"DejaVuSans-52\"/>\n      </defs>\n      <g transform=\"translate(231.831051 239.238437)scale(0.1 -0.1)\">\n       <use xlink:href=\"#DejaVuSans-48\"/>\n       <use x=\"63.623047\" xlink:href=\"#DejaVuSans-46\"/>\n       <use x=\"95.410156\" xlink:href=\"#DejaVuSans-52\"/>\n      </g>\n     </g>\n    </g>\n    <g id=\"xtick_5\">\n     <g id=\"line2d_5\">\n      <g>\n       <use style=\"stroke:#000000;stroke-width:0.8;\" x=\"309.284149\" xlink:href=\"#m7030bd0f52\" y=\"224.64\"/>\n      </g>\n     </g>\n     <g id=\"text_5\">\n      <!-- 0.5 -->\n      <defs>\n       <path d=\"M 10.796875 72.90625 \nL 49.515625 72.90625 \nL 49.515625 64.59375 \nL 19.828125 64.59375 \nL 19.828125 46.734375 \nQ 21.96875 47.46875 24.109375 47.828125 \nQ 26.265625 48.1875 28.421875 48.1875 \nQ 40.625 48.1875 47.75 41.5 \nQ 54.890625 34.8125 54.890625 23.390625 \nQ 54.890625 11.625 47.5625 5.09375 \nQ 40.234375 -1.421875 26.90625 -1.421875 \nQ 22.3125 -1.421875 17.546875 -0.640625 \nQ 12.796875 0.140625 7.71875 1.703125 \nL 7.71875 11.625 \nQ 12.109375 9.234375 16.796875 8.0625 \nQ 21.484375 6.890625 26.703125 6.890625 \nQ 35.15625 6.890625 40.078125 11.328125 \nQ 45.015625 15.765625 45.015625 23.390625 \nQ 45.015625 31 40.078125 35.4375 \nQ 35.15625 39.890625 26.703125 39.890625 \nQ 22.75 39.890625 18.8125 39.015625 \nQ 14.890625 38.140625 10.796875 36.28125 \nz\n\" id=\"DejaVuSans-53\"/>\n      </defs>\n      <g transform=\"translate(301.332586 239.238437)scale(0.1 -0.1)\">\n       <use xlink:href=\"#DejaVuSans-48\"/>\n       <use x=\"63.623047\" xlink:href=\"#DejaVuSans-46\"/>\n       <use x=\"95.410156\" xlink:href=\"#DejaVuSans-53\"/>\n      </g>\n     </g>\n    </g>\n   </g>\n   <g id=\"matplotlib.axis_2\">\n    <g id=\"ytick_1\">\n     <g id=\"line2d_6\">\n      <defs>\n       <path d=\"M 0 0 \nL -3.5 0 \n\" id=\"m61bad01be1\" style=\"stroke:#000000;stroke-width:0.8;\"/>\n      </defs>\n      <g>\n       <use style=\"stroke:#000000;stroke-width:0.8;\" x=\"30.103125\" xlink:href=\"#m61bad01be1\" y=\"214.756364\"/>\n      </g>\n     </g>\n     <g id=\"text_6\">\n      <!-- 0.0 -->\n      <g transform=\"translate(7.2 218.555582)scale(0.1 -0.1)\">\n       <use xlink:href=\"#DejaVuSans-48\"/>\n       <use x=\"63.623047\" xlink:href=\"#DejaVuSans-46\"/>\n       <use x=\"95.410156\" xlink:href=\"#DejaVuSans-48\"/>\n      </g>\n     </g>\n    </g>\n    <g id=\"ytick_2\">\n     <g id=\"line2d_7\">\n      <g>\n       <use style=\"stroke:#000000;stroke-width:0.8;\" x=\"30.103125\" xlink:href=\"#m61bad01be1\" y=\"169.574026\"/>\n      </g>\n     </g>\n     <g id=\"text_7\">\n      <!-- 0.2 -->\n      <g transform=\"translate(7.2 173.373245)scale(0.1 -0.1)\">\n       <use xlink:href=\"#DejaVuSans-48\"/>\n       <use x=\"63.623047\" xlink:href=\"#DejaVuSans-46\"/>\n       <use x=\"95.410156\" xlink:href=\"#DejaVuSans-50\"/>\n      </g>\n     </g>\n    </g>\n    <g id=\"ytick_3\">\n     <g id=\"line2d_8\">\n      <g>\n       <use style=\"stroke:#000000;stroke-width:0.8;\" x=\"30.103125\" xlink:href=\"#m61bad01be1\" y=\"124.391688\"/>\n      </g>\n     </g>\n     <g id=\"text_8\">\n      <!-- 0.4 -->\n      <g transform=\"translate(7.2 128.190907)scale(0.1 -0.1)\">\n       <use xlink:href=\"#DejaVuSans-48\"/>\n       <use x=\"63.623047\" xlink:href=\"#DejaVuSans-46\"/>\n       <use x=\"95.410156\" xlink:href=\"#DejaVuSans-52\"/>\n      </g>\n     </g>\n    </g>\n    <g id=\"ytick_4\">\n     <g id=\"line2d_9\">\n      <g>\n       <use style=\"stroke:#000000;stroke-width:0.8;\" x=\"30.103125\" xlink:href=\"#m61bad01be1\" y=\"79.209351\"/>\n      </g>\n     </g>\n     <g id=\"text_9\">\n      <!-- 0.6 -->\n      <defs>\n       <path d=\"M 33.015625 40.375 \nQ 26.375 40.375 22.484375 35.828125 \nQ 18.609375 31.296875 18.609375 23.390625 \nQ 18.609375 15.53125 22.484375 10.953125 \nQ 26.375 6.390625 33.015625 6.390625 \nQ 39.65625 6.390625 43.53125 10.953125 \nQ 47.40625 15.53125 47.40625 23.390625 \nQ 47.40625 31.296875 43.53125 35.828125 \nQ 39.65625 40.375 33.015625 40.375 \nz\nM 52.59375 71.296875 \nL 52.59375 62.3125 \nQ 48.875 64.0625 45.09375 64.984375 \nQ 41.3125 65.921875 37.59375 65.921875 \nQ 27.828125 65.921875 22.671875 59.328125 \nQ 17.53125 52.734375 16.796875 39.40625 \nQ 19.671875 43.65625 24.015625 45.921875 \nQ 28.375 48.1875 33.59375 48.1875 \nQ 44.578125 48.1875 50.953125 41.515625 \nQ 57.328125 34.859375 57.328125 23.390625 \nQ 57.328125 12.15625 50.6875 5.359375 \nQ 44.046875 -1.421875 33.015625 -1.421875 \nQ 20.359375 -1.421875 13.671875 8.265625 \nQ 6.984375 17.96875 6.984375 36.375 \nQ 6.984375 53.65625 15.1875 63.9375 \nQ 23.390625 74.21875 37.203125 74.21875 \nQ 40.921875 74.21875 44.703125 73.484375 \nQ 48.484375 72.75 52.59375 71.296875 \nz\n\" id=\"DejaVuSans-54\"/>\n      </defs>\n      <g transform=\"translate(7.2 83.008569)scale(0.1 -0.1)\">\n       <use xlink:href=\"#DejaVuSans-48\"/>\n       <use x=\"63.623047\" xlink:href=\"#DejaVuSans-46\"/>\n       <use x=\"95.410156\" xlink:href=\"#DejaVuSans-54\"/>\n      </g>\n     </g>\n    </g>\n    <g id=\"ytick_5\">\n     <g id=\"line2d_10\">\n      <g>\n       <use style=\"stroke:#000000;stroke-width:0.8;\" x=\"30.103125\" xlink:href=\"#m61bad01be1\" y=\"34.027013\"/>\n      </g>\n     </g>\n     <g id=\"text_10\">\n      <!-- 0.8 -->\n      <defs>\n       <path d=\"M 31.78125 34.625 \nQ 24.75 34.625 20.71875 30.859375 \nQ 16.703125 27.09375 16.703125 20.515625 \nQ 16.703125 13.921875 20.71875 10.15625 \nQ 24.75 6.390625 31.78125 6.390625 \nQ 38.8125 6.390625 42.859375 10.171875 \nQ 46.921875 13.96875 46.921875 20.515625 \nQ 46.921875 27.09375 42.890625 30.859375 \nQ 38.875 34.625 31.78125 34.625 \nz\nM 21.921875 38.8125 \nQ 15.578125 40.375 12.03125 44.71875 \nQ 8.5 49.078125 8.5 55.328125 \nQ 8.5 64.0625 14.71875 69.140625 \nQ 20.953125 74.21875 31.78125 74.21875 \nQ 42.671875 74.21875 48.875 69.140625 \nQ 55.078125 64.0625 55.078125 55.328125 \nQ 55.078125 49.078125 51.53125 44.71875 \nQ 48 40.375 41.703125 38.8125 \nQ 48.828125 37.15625 52.796875 32.3125 \nQ 56.78125 27.484375 56.78125 20.515625 \nQ 56.78125 9.90625 50.3125 4.234375 \nQ 43.84375 -1.421875 31.78125 -1.421875 \nQ 19.734375 -1.421875 13.25 4.234375 \nQ 6.78125 9.90625 6.78125 20.515625 \nQ 6.78125 27.484375 10.78125 32.3125 \nQ 14.796875 37.15625 21.921875 38.8125 \nz\nM 18.3125 54.390625 \nQ 18.3125 48.734375 21.84375 45.5625 \nQ 25.390625 42.390625 31.78125 42.390625 \nQ 38.140625 42.390625 41.71875 45.5625 \nQ 45.3125 48.734375 45.3125 54.390625 \nQ 45.3125 60.0625 41.71875 63.234375 \nQ 38.140625 66.40625 31.78125 66.40625 \nQ 25.390625 66.40625 21.84375 63.234375 \nQ 18.3125 60.0625 18.3125 54.390625 \nz\n\" id=\"DejaVuSans-56\"/>\n      </defs>\n      <g transform=\"translate(7.2 37.826232)scale(0.1 -0.1)\">\n       <use xlink:href=\"#DejaVuSans-48\"/>\n       <use x=\"63.623047\" xlink:href=\"#DejaVuSans-46\"/>\n       <use x=\"95.410156\" xlink:href=\"#DejaVuSans-56\"/>\n      </g>\n     </g>\n    </g>\n   </g>\n   <g id=\"line2d_11\">\n    <defs>\n     <path d=\"M 0 3 \nC 0.795609 3 1.55874 2.683901 2.12132 2.12132 \nC 2.683901 1.55874 3 0.795609 3 0 \nC 3 -0.795609 2.683901 -1.55874 2.12132 -2.12132 \nC 1.55874 -2.683901 0.795609 -3 0 -3 \nC -0.795609 -3 -1.55874 -2.683901 -2.12132 -2.12132 \nC -2.683901 -1.55874 -3 -0.795609 -3 0 \nC -3 0.795609 -2.683901 1.55874 -2.12132 2.12132 \nC -1.55874 2.683901 -0.795609 3 0 3 \nz\n\" id=\"meabc4916df\" style=\"stroke:#1f77b4;\"/>\n    </defs>\n    <g clip-path=\"url(#p27c4badc8b)\">\n     <use style=\"fill:#1f77b4;stroke:#1f77b4;\" x=\"64.758754\" xlink:href=\"#meabc4916df\" y=\"214.756364\"/>\n     <use style=\"fill:#1f77b4;stroke:#1f77b4;\" x=\"64.758754\" xlink:href=\"#meabc4916df\" y=\"191.500749\"/>\n     <use style=\"fill:#1f77b4;stroke:#1f77b4;\" x=\"64.758754\" xlink:href=\"#meabc4916df\" y=\"190.047273\"/>\n     <use style=\"fill:#1f77b4;stroke:#1f77b4;\" x=\"64.758754\" xlink:href=\"#meabc4916df\" y=\"178.449128\"/>\n     <use style=\"fill:#1f77b4;stroke:#1f77b4;\" x=\"86.193038\" xlink:href=\"#meabc4916df\" y=\"214.756364\"/>\n     <use style=\"fill:#1f77b4;stroke:#1f77b4;\" x=\"86.193038\" xlink:href=\"#meabc4916df\" y=\"209.108571\"/>\n     <use style=\"fill:#1f77b4;stroke:#1f77b4;\" x=\"86.193038\" xlink:href=\"#meabc4916df\" y=\"194.585677\"/>\n     <use style=\"fill:#1f77b4;stroke:#1f77b4;\" x=\"86.193038\" xlink:href=\"#meabc4916df\" y=\"182.987532\"/>\n     <use style=\"fill:#1f77b4;stroke:#1f77b4;\" x=\"86.193038\" xlink:href=\"#meabc4916df\" y=\"170.829091\"/>\n     <use style=\"fill:#1f77b4;stroke:#1f77b4;\" x=\"99.285698\" xlink:href=\"#meabc4916df\" y=\"203.460779\"/>\n     <use style=\"fill:#1f77b4;stroke:#1f77b4;\" x=\"99.285698\" xlink:href=\"#meabc4916df\" y=\"188.68963\"/>\n     <use style=\"fill:#1f77b4;stroke:#1f77b4;\" x=\"99.285698\" xlink:href=\"#meabc4916df\" y=\"184.856287\"/>\n     <use style=\"fill:#1f77b4;stroke:#1f77b4;\" x=\"99.285698\" xlink:href=\"#meabc4916df\" y=\"182.987532\"/>\n     <use style=\"fill:#1f77b4;stroke:#1f77b4;\" x=\"99.285698\" xlink:href=\"#meabc4916df\" y=\"158.278442\"/>\n     <use style=\"fill:#1f77b4;stroke:#1f77b4;\" x=\"86.878018\" xlink:href=\"#meabc4916df\" y=\"197.812987\"/>\n     <use style=\"fill:#1f77b4;stroke:#1f77b4;\" x=\"86.878018\" xlink:href=\"#meabc4916df\" y=\"180.242078\"/>\n     <use style=\"fill:#1f77b4;stroke:#1f77b4;\" x=\"86.878018\" xlink:href=\"#meabc4916df\" y=\"164.223486\"/>\n     <use style=\"fill:#1f77b4;stroke:#1f77b4;\" x=\"183.848885\" xlink:href=\"#meabc4916df\" y=\"197.812987\"/>\n     <use style=\"fill:#1f77b4;stroke:#1f77b4;\" x=\"183.848885\" xlink:href=\"#meabc4916df\" y=\"186.517403\"/>\n     <use style=\"fill:#1f77b4;stroke:#1f77b4;\" x=\"183.848885\" xlink:href=\"#meabc4916df\" y=\"162.312579\"/>\n     <use style=\"fill:#1f77b4;stroke:#1f77b4;\" x=\"77.720903\" xlink:href=\"#meabc4916df\" y=\"197.812987\"/>\n     <use style=\"fill:#1f77b4;stroke:#1f77b4;\" x=\"77.720903\" xlink:href=\"#meabc4916df\" y=\"158.278442\"/>\n     <use style=\"fill:#1f77b4;stroke:#1f77b4;\" x=\"75.975013\" xlink:href=\"#meabc4916df\" y=\"161.416104\"/>\n     <use style=\"fill:#1f77b4;stroke:#1f77b4;\" x=\"171.393135\" xlink:href=\"#meabc4916df\" y=\"192.165195\"/>\n     <use style=\"fill:#1f77b4;stroke:#1f77b4;\" x=\"172.895766\" xlink:href=\"#meabc4916df\" y=\"191.500749\"/>\n     <use style=\"fill:#1f77b4;stroke:#1f77b4;\" x=\"172.895766\" xlink:href=\"#meabc4916df\" y=\"173.339221\"/>\n     <use style=\"fill:#1f77b4;stroke:#1f77b4;\" x=\"172.895766\" xlink:href=\"#meabc4916df\" y=\"158.278442\"/>\n     <use style=\"fill:#1f77b4;stroke:#1f77b4;\" x=\"104.40157\" xlink:href=\"#meabc4916df\" y=\"189.655065\"/>\n     <use style=\"fill:#1f77b4;stroke:#1f77b4;\" x=\"104.40157\" xlink:href=\"#meabc4916df\" y=\"151.218701\"/>\n     <use style=\"fill:#1f77b4;stroke:#1f77b4;\" x=\"82.793617\" xlink:href=\"#meabc4916df\" y=\"188.68963\"/>\n     <use style=\"fill:#1f77b4;stroke:#1f77b4;\" x=\"66.146694\" xlink:href=\"#meabc4916df\" y=\"186.517403\"/>\n     <use style=\"fill:#1f77b4;stroke:#1f77b4;\" x=\"66.146694\" xlink:href=\"#meabc4916df\" y=\"163.926234\"/>\n     <use style=\"fill:#1f77b4;stroke:#1f77b4;\" x=\"149.568316\" xlink:href=\"#meabc4916df\" y=\"186.517403\"/>\n     <use style=\"fill:#1f77b4;stroke:#1f77b4;\" x=\"149.568316\" xlink:href=\"#meabc4916df\" y=\"158.278442\"/>\n     <use style=\"fill:#1f77b4;stroke:#1f77b4;\" x=\"149.568316\" xlink:href=\"#meabc4916df\" y=\"158.278442\"/>\n     <use style=\"fill:#1f77b4;stroke:#1f77b4;\" x=\"149.568316\" xlink:href=\"#meabc4916df\" y=\"154.748571\"/>\n     <use style=\"fill:#1f77b4;stroke:#1f77b4;\" x=\"149.568316\" xlink:href=\"#meabc4916df\" y=\"144.158961\"/>\n     <use style=\"fill:#1f77b4;stroke:#1f77b4;\" x=\"80.517143\" xlink:href=\"#meabc4916df\" y=\"186.517403\"/>\n     <use style=\"fill:#1f77b4;stroke:#1f77b4;\" x=\"80.517143\" xlink:href=\"#meabc4916df\" y=\"180.242078\"/>\n     <use style=\"fill:#1f77b4;stroke:#1f77b4;\" x=\"80.517143\" xlink:href=\"#meabc4916df\" y=\"143.41583\"/>\n     <use style=\"fill:#1f77b4;stroke:#1f77b4;\" x=\"162.094939\" xlink:href=\"#meabc4916df\" y=\"184.634805\"/>\n     <use style=\"fill:#1f77b4;stroke:#1f77b4;\" x=\"162.094939\" xlink:href=\"#meabc4916df\" y=\"158.278442\"/>\n     <use style=\"fill:#1f77b4;stroke:#1f77b4;\" x=\"175.110062\" xlink:href=\"#meabc4916df\" y=\"182.483265\"/>\n     <use style=\"fill:#1f77b4;stroke:#1f77b4;\" x=\"175.110062\" xlink:href=\"#meabc4916df\" y=\"165.808831\"/>\n     <use style=\"fill:#1f77b4;stroke:#1f77b4;\" x=\"175.110062\" xlink:href=\"#meabc4916df\" y=\"158.278442\"/>\n     <use style=\"fill:#1f77b4;stroke:#1f77b4;\" x=\"175.110062\" xlink:href=\"#meabc4916df\" y=\"144.158961\"/>\n     <use style=\"fill:#1f77b4;stroke:#1f77b4;\" x=\"148.595574\" xlink:href=\"#meabc4916df\" y=\"175.221818\"/>\n     <use style=\"fill:#1f77b4;stroke:#1f77b4;\" x=\"160.271115\" xlink:href=\"#meabc4916df\" y=\"178.449128\"/>\n     <use style=\"fill:#1f77b4;stroke:#1f77b4;\" x=\"52.717226\" xlink:href=\"#meabc4916df\" y=\"177.104416\"/>\n     <use style=\"fill:#1f77b4;stroke:#1f77b4;\" x=\"52.717226\" xlink:href=\"#meabc4916df\" y=\"167.196008\"/>\n     <use style=\"fill:#1f77b4;stroke:#1f77b4;\" x=\"52.717226\" xlink:href=\"#meabc4916df\" y=\"166.346716\"/>\n     <use style=\"fill:#1f77b4;stroke:#1f77b4;\" x=\"52.717226\" xlink:href=\"#meabc4916df\" y=\"148.456194\"/>\n     <use style=\"fill:#1f77b4;stroke:#1f77b4;\" x=\"52.717226\" xlink:href=\"#meabc4916df\" y=\"146.388353\"/>\n     <use style=\"fill:#1f77b4;stroke:#1f77b4;\" x=\"137.361663\" xlink:href=\"#meabc4916df\" y=\"174.889595\"/>\n     <use style=\"fill:#1f77b4;stroke:#1f77b4;\" x=\"158.503417\" xlink:href=\"#meabc4916df\" y=\"174.889595\"/>\n     <use style=\"fill:#1f77b4;stroke:#1f77b4;\" x=\"158.503417\" xlink:href=\"#meabc4916df\" y=\"170.829091\"/>\n     <use style=\"fill:#1f77b4;stroke:#1f77b4;\" x=\"158.503417\" xlink:href=\"#meabc4916df\" y=\"167.196008\"/>\n     <use style=\"fill:#1f77b4;stroke:#1f77b4;\" x=\"158.503417\" xlink:href=\"#meabc4916df\" y=\"161.808312\"/>\n     <use style=\"fill:#1f77b4;stroke:#1f77b4;\" x=\"112.596202\" xlink:href=\"#meabc4916df\" y=\"174.414991\"/>\n     <use style=\"fill:#1f77b4;stroke:#1f77b4;\" x=\"90.583943\" xlink:href=\"#meabc4916df\" y=\"143.217662\"/>\n     <use style=\"fill:#1f77b4;stroke:#1f77b4;\" x=\"168.003129\" xlink:href=\"#meabc4916df\" y=\"173.141053\"/>\n     <use style=\"fill:#1f77b4;stroke:#1f77b4;\" x=\"168.003129\" xlink:href=\"#meabc4916df\" y=\"134.498264\"/>\n     <use style=\"fill:#1f77b4;stroke:#1f77b4;\" x=\"132.085457\" xlink:href=\"#meabc4916df\" y=\"171.567364\"/>\n     <use style=\"fill:#1f77b4;stroke:#1f77b4;\" x=\"115.305868\" xlink:href=\"#meabc4916df\" y=\"170.829091\"/>\n     <use style=\"fill:#1f77b4;stroke:#1f77b4;\" x=\"147.321879\" xlink:href=\"#meabc4916df\" y=\"170.16853\"/>\n     <use style=\"fill:#1f77b4;stroke:#1f77b4;\" x=\"147.321879\" xlink:href=\"#meabc4916df\" y=\"142.141892\"/>\n     <use style=\"fill:#1f77b4;stroke:#1f77b4;\" x=\"128.525289\" xlink:href=\"#meabc4916df\" y=\"169.574026\"/>\n     <use style=\"fill:#1f77b4;stroke:#1f77b4;\" x=\"248.007766\" xlink:href=\"#meabc4916df\" y=\"169.574026\"/>\n     <use style=\"fill:#1f77b4;stroke:#1f77b4;\" x=\"152.931961\" xlink:href=\"#meabc4916df\" y=\"169.574026\"/>\n     <use style=\"fill:#1f77b4;stroke:#1f77b4;\" x=\"152.931961\" xlink:href=\"#meabc4916df\" y=\"158.278442\"/>\n     <use style=\"fill:#1f77b4;stroke:#1f77b4;\" x=\"152.931961\" xlink:href=\"#meabc4916df\" y=\"154.244304\"/>\n     <use style=\"fill:#1f77b4;stroke:#1f77b4;\" x=\"152.931961\" xlink:href=\"#meabc4916df\" y=\"133.177143\"/>\n     <use style=\"fill:#1f77b4;stroke:#1f77b4;\" x=\"109.308032\" xlink:href=\"#meabc4916df\" y=\"168.868052\"/>\n     <use style=\"fill:#1f77b4;stroke:#1f77b4;\" x=\"121.205567\" xlink:href=\"#meabc4916df\" y=\"167.691429\"/>\n     <use style=\"fill:#1f77b4;stroke:#1f77b4;\" x=\"105.627963\" xlink:href=\"#meabc4916df\" y=\"166.75013\"/>\n     <use style=\"fill:#1f77b4;stroke:#1f77b4;\" x=\"137.683701\" xlink:href=\"#meabc4916df\" y=\"166.346716\"/>\n     <use style=\"fill:#1f77b4;stroke:#1f77b4;\" x=\"64.358613\" xlink:href=\"#meabc4916df\" y=\"165.808831\"/>\n     <use style=\"fill:#1f77b4;stroke:#1f77b4;\" x=\"145.204481\" xlink:href=\"#meabc4916df\" y=\"165.338182\"/>\n     <use style=\"fill:#1f77b4;stroke:#1f77b4;\" x=\"56.91639\" xlink:href=\"#meabc4916df\" y=\"164.922903\"/>\n     <use style=\"fill:#1f77b4;stroke:#1f77b4;\" x=\"169.193028\" xlink:href=\"#meabc4916df\" y=\"164.223486\"/>\n     <use style=\"fill:#1f77b4;stroke:#1f77b4;\" x=\"169.193028\" xlink:href=\"#meabc4916df\" y=\"162.043636\"/>\n     <use style=\"fill:#1f77b4;stroke:#1f77b4;\" x=\"169.193028\" xlink:href=\"#meabc4916df\" y=\"158.278442\"/>\n     <use style=\"fill:#1f77b4;stroke:#1f77b4;\" x=\"169.193028\" xlink:href=\"#meabc4916df\" y=\"154.956211\"/>\n     <use style=\"fill:#1f77b4;stroke:#1f77b4;\" x=\"169.193028\" xlink:href=\"#meabc4916df\" y=\"137.741015\"/>\n     <use style=\"fill:#1f77b4;stroke:#1f77b4;\" x=\"136.962131\" xlink:href=\"#meabc4916df\" y=\"163.926234\"/>\n     <use style=\"fill:#1f77b4;stroke:#1f77b4;\" x=\"136.962131\" xlink:href=\"#meabc4916df\" y=\"158.278442\"/>\n     <use style=\"fill:#1f77b4;stroke:#1f77b4;\" x=\"45.321307\" xlink:href=\"#meabc4916df\" y=\"162.622897\"/>\n     <use style=\"fill:#1f77b4;stroke:#1f77b4;\" x=\"126.110195\" xlink:href=\"#meabc4916df\" y=\"161.808312\"/>\n     <use style=\"fill:#1f77b4;stroke:#1f77b4;\" x=\"116.488888\" xlink:href=\"#meabc4916df\" y=\"158.278442\"/>\n     <use style=\"fill:#1f77b4;stroke:#1f77b4;\" x=\"218.093776\" xlink:href=\"#meabc4916df\" y=\"161.808312\"/>\n     <use style=\"fill:#1f77b4;stroke:#1f77b4;\" x=\"135.904668\" xlink:href=\"#meabc4916df\" y=\"161.102338\"/>\n     <use style=\"fill:#1f77b4;stroke:#1f77b4;\" x=\"135.904668\" xlink:href=\"#meabc4916df\" y=\"158.278442\"/>\n     <use style=\"fill:#1f77b4;stroke:#1f77b4;\" x=\"135.904668\" xlink:href=\"#meabc4916df\" y=\"144.158961\"/>\n     <use style=\"fill:#1f77b4;stroke:#1f77b4;\" x=\"84.072736\" xlink:href=\"#meabc4916df\" y=\"155.711263\"/>\n     <use style=\"fill:#1f77b4;stroke:#1f77b4;\" x=\"240.300245\" xlink:href=\"#meabc4916df\" y=\"155.140779\"/>\n     <use style=\"fill:#1f77b4;stroke:#1f77b4;\" x=\"184.540379\" xlink:href=\"#meabc4916df\" y=\"146.388353\"/>\n     <use style=\"fill:#1f77b4;stroke:#1f77b4;\" x=\"184.540379\" xlink:href=\"#meabc4916df\" y=\"142.875372\"/>\n     <use style=\"fill:#1f77b4;stroke:#1f77b4;\" x=\"184.540379\" xlink:href=\"#meabc4916df\" y=\"109.868794\"/>\n     <use style=\"fill:#1f77b4;stroke:#1f77b4;\" x=\"184.540379\" xlink:href=\"#meabc4916df\" y=\"105.565714\"/>\n     <use style=\"fill:#1f77b4;stroke:#1f77b4;\" x=\"192.219582\" xlink:href=\"#meabc4916df\" y=\"150.748052\"/>\n     <use style=\"fill:#1f77b4;stroke:#1f77b4;\" x=\"104.820974\" xlink:href=\"#meabc4916df\" y=\"148.865455\"/>\n     <use style=\"fill:#1f77b4;stroke:#1f77b4;\" x=\"200.49958\" xlink:href=\"#meabc4916df\" y=\"144.989519\"/>\n     <use style=\"fill:#1f77b4;stroke:#1f77b4;\" x=\"212.477971\" xlink:href=\"#meabc4916df\" y=\"141.089509\"/>\n     <use style=\"fill:#1f77b4;stroke:#1f77b4;\" x=\"173.244586\" xlink:href=\"#meabc4916df\" y=\"133.177143\"/>\n     <use style=\"fill:#1f77b4;stroke:#1f77b4;\" x=\"191.163415\" xlink:href=\"#meabc4916df\" y=\"130.039481\"/>\n     <use style=\"fill:#1f77b4;stroke:#1f77b4;\" x=\"268.469136\" xlink:href=\"#meabc4916df\" y=\"130.039481\"/>\n     <use style=\"fill:#1f77b4;stroke:#1f77b4;\" x=\"207.954068\" xlink:href=\"#meabc4916df\" y=\"128.378365\"/>\n     <use style=\"fill:#1f77b4;stroke:#1f77b4;\" x=\"263.075052\" xlink:href=\"#meabc4916df\" y=\"126.901818\"/>\n     <use style=\"fill:#1f77b4;stroke:#1f77b4;\" x=\"334.662049\" xlink:href=\"#meabc4916df\" y=\"125.056134\"/>\n     <use style=\"fill:#1f77b4;stroke:#1f77b4;\" x=\"334.662049\" xlink:href=\"#meabc4916df\" y=\"101.800519\"/>\n     <use style=\"fill:#1f77b4;stroke:#1f77b4;\" x=\"334.662049\" xlink:href=\"#meabc4916df\" y=\"87.681039\"/>\n     <use style=\"fill:#1f77b4;stroke:#1f77b4;\" x=\"260.888665\" xlink:href=\"#meabc4916df\" y=\"124.391688\"/>\n     <use style=\"fill:#1f77b4;stroke:#1f77b4;\" x=\"201.120064\" xlink:href=\"#meabc4916df\" y=\"122.97974\"/>\n     <use style=\"fill:#1f77b4;stroke:#1f77b4;\" x=\"155.326331\" xlink:href=\"#meabc4916df\" y=\"120.626494\"/>\n     <use style=\"fill:#1f77b4;stroke:#1f77b4;\" x=\"178.709405\" xlink:href=\"#meabc4916df\" y=\"117.488831\"/>\n     <use style=\"fill:#1f77b4;stroke:#1f77b4;\" x=\"178.709405\" xlink:href=\"#meabc4916df\" y=\"84.151169\"/>\n     <use style=\"fill:#1f77b4;stroke:#1f77b4;\" x=\"251.12556\" xlink:href=\"#meabc4916df\" y=\"116.53389\"/>\n     <use style=\"fill:#1f77b4;stroke:#1f77b4;\" x=\"251.12556\" xlink:href=\"#meabc4916df\" y=\"105.33039\"/>\n     <use style=\"fill:#1f77b4;stroke:#1f77b4;\" x=\"251.12556\" xlink:href=\"#meabc4916df\" y=\"94.27013\"/>\n     <use style=\"fill:#1f77b4;stroke:#1f77b4;\" x=\"265.861405\" xlink:href=\"#meabc4916df\" y=\"115.089442\"/>\n     <use style=\"fill:#1f77b4;stroke:#1f77b4;\" x=\"298.466669\" xlink:href=\"#meabc4916df\" y=\"114.351169\"/>\n     <use style=\"fill:#1f77b4;stroke:#1f77b4;\" x=\"290.651076\" xlink:href=\"#meabc4916df\" y=\"105.12275\"/>\n     <use style=\"fill:#1f77b4;stroke:#1f77b4;\" x=\"290.651076\" xlink:href=\"#meabc4916df\" y=\"95.156058\"/>\n     <use style=\"fill:#1f77b4;stroke:#1f77b4;\" x=\"203.507216\" xlink:href=\"#meabc4916df\" y=\"134.073618\"/>\n     <use style=\"fill:#1f77b4;stroke:#1f77b4;\" x=\"269.67539\" xlink:href=\"#meabc4916df\" y=\"133.569351\"/>\n     <use style=\"fill:#1f77b4;stroke:#1f77b4;\" x=\"269.67539\" xlink:href=\"#meabc4916df\" y=\"113.096104\"/>\n     <use style=\"fill:#1f77b4;stroke:#1f77b4;\" x=\"269.67539\" xlink:href=\"#meabc4916df\" y=\"99.233341\"/>\n     <use style=\"fill:#1f77b4;stroke:#1f77b4;\" x=\"269.67539\" xlink:href=\"#meabc4916df\" y=\"90.504935\"/>\n     <use style=\"fill:#1f77b4;stroke:#1f77b4;\" x=\"269.67539\" xlink:href=\"#meabc4916df\" y=\"75.444156\"/>\n     <use style=\"fill:#1f77b4;stroke:#1f77b4;\" x=\"189.266767\" xlink:href=\"#meabc4916df\" y=\"132.606659\"/>\n     <use style=\"fill:#1f77b4;stroke:#1f77b4;\" x=\"252.542013\" xlink:href=\"#meabc4916df\" y=\"130.039481\"/>\n     <use style=\"fill:#1f77b4;stroke:#1f77b4;\" x=\"252.542013\" xlink:href=\"#meabc4916df\" y=\"124.391688\"/>\n     <use style=\"fill:#1f77b4;stroke:#1f77b4;\" x=\"247.828033\" xlink:href=\"#meabc4916df\" y=\"128.553219\"/>\n     <use style=\"fill:#1f77b4;stroke:#1f77b4;\" x=\"247.828033\" xlink:href=\"#meabc4916df\" y=\"77.595696\"/>\n     <use style=\"fill:#1f77b4;stroke:#1f77b4;\" x=\"225.431234\" xlink:href=\"#meabc4916df\" y=\"128.156883\"/>\n     <use style=\"fill:#1f77b4;stroke:#1f77b4;\" x=\"225.431234\" xlink:href=\"#meabc4916df\" y=\"98.035325\"/>\n     <use style=\"fill:#1f77b4;stroke:#1f77b4;\" x=\"326.246574\" xlink:href=\"#meabc4916df\" y=\"126.356138\"/>\n     <use style=\"fill:#1f77b4;stroke:#1f77b4;\" x=\"326.246574\" xlink:href=\"#meabc4916df\" y=\"105.12275\"/>\n     <use style=\"fill:#1f77b4;stroke:#1f77b4;\" x=\"326.246574\" xlink:href=\"#meabc4916df\" y=\"95.855475\"/>\n     <use style=\"fill:#1f77b4;stroke:#1f77b4;\" x=\"326.246574\" xlink:href=\"#meabc4916df\" y=\"73.561558\"/>\n     <use style=\"fill:#1f77b4;stroke:#1f77b4;\" x=\"316.710478\" xlink:href=\"#meabc4916df\" y=\"125.056134\"/>\n     <use style=\"fill:#1f77b4;stroke:#1f77b4;\" x=\"219.115765\" xlink:href=\"#meabc4916df\" y=\"124.391688\"/>\n     <use style=\"fill:#1f77b4;stroke:#1f77b4;\" x=\"174.977917\" xlink:href=\"#meabc4916df\" y=\"124.391688\"/>\n     <use style=\"fill:#1f77b4;stroke:#1f77b4;\" x=\"174.977917\" xlink:href=\"#meabc4916df\" y=\"98.976623\"/>\n     <use style=\"fill:#1f77b4;stroke:#1f77b4;\" x=\"237.279516\" xlink:href=\"#meabc4916df\" y=\"119.44987\"/>\n     <use style=\"fill:#1f77b4;stroke:#1f77b4;\" x=\"294.786935\" xlink:href=\"#meabc4916df\" y=\"107.448312\"/>\n     <use style=\"fill:#1f77b4;stroke:#1f77b4;\" x=\"338.403525\" xlink:href=\"#meabc4916df\" y=\"105.33039\"/>\n     <use style=\"fill:#1f77b4;stroke:#1f77b4;\" x=\"338.403525\" xlink:href=\"#meabc4916df\" y=\"98.827997\"/>\n     <use style=\"fill:#1f77b4;stroke:#1f77b4;\" x=\"338.403525\" xlink:href=\"#meabc4916df\" y=\"95.855475\"/>\n     <use style=\"fill:#1f77b4;stroke:#1f77b4;\" x=\"338.403525\" xlink:href=\"#meabc4916df\" y=\"75.222674\"/>\n     <use style=\"fill:#1f77b4;stroke:#1f77b4;\" x=\"338.403525\" xlink:href=\"#meabc4916df\" y=\"48.46026\"/>\n     <use style=\"fill:#1f77b4;stroke:#1f77b4;\" x=\"331.549057\" xlink:href=\"#meabc4916df\" y=\"101.800519\"/>\n     <use style=\"fill:#1f77b4;stroke:#1f77b4;\" x=\"285.920657\" xlink:href=\"#meabc4916df\" y=\"101.800519\"/>\n     <use style=\"fill:#1f77b4;stroke:#1f77b4;\" x=\"288.920183\" xlink:href=\"#meabc4916df\" y=\"101.800519\"/>\n     <use style=\"fill:#1f77b4;stroke:#1f77b4;\" x=\"288.920183\" xlink:href=\"#meabc4916df\" y=\"75.222674\"/>\n     <use style=\"fill:#1f77b4;stroke:#1f77b4;\" x=\"292.518863\" xlink:href=\"#meabc4916df\" y=\"93.732245\"/>\n     <use style=\"fill:#1f77b4;stroke:#1f77b4;\" x=\"218.653338\" xlink:href=\"#meabc4916df\" y=\"87.681039\"/>\n     <use style=\"fill:#1f77b4;stroke:#1f77b4;\" x=\"283.033065\" xlink:href=\"#meabc4916df\" y=\"82.974545\"/>\n     <use style=\"fill:#1f77b4;stroke:#1f77b4;\" x=\"339.825701\" xlink:href=\"#meabc4916df\" y=\"69.527421\"/>\n     <use style=\"fill:#1f77b4;stroke:#1f77b4;\" x=\"318.727239\" xlink:href=\"#meabc4916df\" y=\"66.837996\"/>\n     <use style=\"fill:#1f77b4;stroke:#1f77b4;\" x=\"318.727239\" xlink:href=\"#meabc4916df\" y=\"64.148571\"/>\n     <use style=\"fill:#1f77b4;stroke:#1f77b4;\" x=\"318.727239\" xlink:href=\"#meabc4916df\" y=\"51.597922\"/>\n     <use style=\"fill:#1f77b4;stroke:#1f77b4;\" x=\"318.727239\" xlink:href=\"#meabc4916df\" y=\"49.087792\"/>\n     <use style=\"fill:#1f77b4;stroke:#1f77b4;\" x=\"318.727239\" xlink:href=\"#meabc4916df\" y=\"17.083636\"/>\n     <use style=\"fill:#1f77b4;stroke:#1f77b4;\" x=\"349.684943\" xlink:href=\"#meabc4916df\" y=\"64.148571\"/>\n     <use style=\"fill:#1f77b4;stroke:#1f77b4;\" x=\"349.684943\" xlink:href=\"#meabc4916df\" y=\"51.597922\"/>\n     <use style=\"fill:#1f77b4;stroke:#1f77b4;\" x=\"300.277954\" xlink:href=\"#meabc4916df\" y=\"45.322597\"/>\n     <use style=\"fill:#1f77b4;stroke:#1f77b4;\" x=\"337.815167\" xlink:href=\"#meabc4916df\" y=\"39.674805\"/>\n     <use style=\"fill:#1f77b4;stroke:#1f77b4;\" x=\"64.758754\" xlink:href=\"#meabc4916df\" y=\"164.922903\"/>\n     <use style=\"fill:#1f77b4;stroke:#1f77b4;\" x=\"97.723027\" xlink:href=\"#meabc4916df\" y=\"203.460779\"/>\n     <use style=\"fill:#1f77b4;stroke:#1f77b4;\" x=\"97.723027\" xlink:href=\"#meabc4916df\" y=\"174.414991\"/>\n     <use style=\"fill:#1f77b4;stroke:#1f77b4;\" x=\"118.087486\" xlink:href=\"#meabc4916df\" y=\"199.695584\"/>\n     <use style=\"fill:#1f77b4;stroke:#1f77b4;\" x=\"118.087486\" xlink:href=\"#meabc4916df\" y=\"188.68963\"/>\n     <use style=\"fill:#1f77b4;stroke:#1f77b4;\" x=\"118.087486\" xlink:href=\"#meabc4916df\" y=\"170.829091\"/>\n     <use style=\"fill:#1f77b4;stroke:#1f77b4;\" x=\"75.975013\" xlink:href=\"#meabc4916df\" y=\"192.165195\"/>\n     <use style=\"fill:#1f77b4;stroke:#1f77b4;\" x=\"75.975013\" xlink:href=\"#meabc4916df\" y=\"162.043636\"/>\n     <use style=\"fill:#1f77b4;stroke:#1f77b4;\" x=\"75.975013\" xlink:href=\"#meabc4916df\" y=\"146.982857\"/>\n     <use style=\"fill:#1f77b4;stroke:#1f77b4;\" x=\"146.113092\" xlink:href=\"#meabc4916df\" y=\"161.600672\"/>\n     <use style=\"fill:#1f77b4;stroke:#1f77b4;\" x=\"109.43577\" xlink:href=\"#meabc4916df\" y=\"184.856287\"/>\n     <use style=\"fill:#1f77b4;stroke:#1f77b4;\" x=\"125.505885\" xlink:href=\"#meabc4916df\" y=\"184.634805\"/>\n     <use style=\"fill:#1f77b4;stroke:#1f77b4;\" x=\"125.505885\" xlink:href=\"#meabc4916df\" y=\"173.966753\"/>\n     <use style=\"fill:#1f77b4;stroke:#1f77b4;\" x=\"163.587393\" xlink:href=\"#meabc4916df\" y=\"183.37974\"/>\n     <use style=\"fill:#1f77b4;stroke:#1f77b4;\" x=\"101.891553\" xlink:href=\"#meabc4916df\" y=\"183.37974\"/>\n     <use style=\"fill:#1f77b4;stroke:#1f77b4;\" x=\"85.634282\" xlink:href=\"#meabc4916df\" y=\"181.534057\"/>\n     <use style=\"fill:#1f77b4;stroke:#1f77b4;\" x=\"92.002883\" xlink:href=\"#meabc4916df\" y=\"180.86961\"/>\n     <use style=\"fill:#1f77b4;stroke:#1f77b4;\" x=\"92.002883\" xlink:href=\"#meabc4916df\" y=\"173.966753\"/>\n     <use style=\"fill:#1f77b4;stroke:#1f77b4;\" x=\"92.002883\" xlink:href=\"#meabc4916df\" y=\"171.567364\"/>\n     <use style=\"fill:#1f77b4;stroke:#1f77b4;\" x=\"92.002883\" xlink:href=\"#meabc4916df\" y=\"161.808312\"/>\n     <use style=\"fill:#1f77b4;stroke:#1f77b4;\" x=\"169.89186\" xlink:href=\"#meabc4916df\" y=\"179.457662\"/>\n     <use style=\"fill:#1f77b4;stroke:#1f77b4;\" x=\"153.373899\" xlink:href=\"#meabc4916df\" y=\"179.086097\"/>\n     <use style=\"fill:#1f77b4;stroke:#1f77b4;\" x=\"153.373899\" xlink:href=\"#meabc4916df\" y=\"152.003117\"/>\n     <use style=\"fill:#1f77b4;stroke:#1f77b4;\" x=\"131.928638\" xlink:href=\"#meabc4916df\" y=\"178.449128\"/>\n     <use style=\"fill:#1f77b4;stroke:#1f77b4;\" x=\"108.756904\" xlink:href=\"#meabc4916df\" y=\"152.333397\"/>\n     <use style=\"fill:#1f77b4;stroke:#1f77b4;\" x=\"154.320113\" xlink:href=\"#meabc4916df\" y=\"176.113575\"/>\n     <use style=\"fill:#1f77b4;stroke:#1f77b4;\" x=\"154.320113\" xlink:href=\"#meabc4916df\" y=\"166.75013\"/>\n     <use style=\"fill:#1f77b4;stroke:#1f77b4;\" x=\"168.108466\" xlink:href=\"#meabc4916df\" y=\"174.889595\"/>\n     <use style=\"fill:#1f77b4;stroke:#1f77b4;\" x=\"168.108466\" xlink:href=\"#meabc4916df\" y=\"168.245134\"/>\n     <use style=\"fill:#1f77b4;stroke:#1f77b4;\" x=\"168.108466\" xlink:href=\"#meabc4916df\" y=\"158.278442\"/>\n     <use style=\"fill:#1f77b4;stroke:#1f77b4;\" x=\"168.108466\" xlink:href=\"#meabc4916df\" y=\"158.278442\"/>\n     <use style=\"fill:#1f77b4;stroke:#1f77b4;\" x=\"114.903268\" xlink:href=\"#meabc4916df\" y=\"174.414991\"/>\n     <use style=\"fill:#1f77b4;stroke:#1f77b4;\" x=\"114.903268\" xlink:href=\"#meabc4916df\" y=\"158.278442\"/>\n     <use style=\"fill:#1f77b4;stroke:#1f77b4;\" x=\"90.583943\" xlink:href=\"#meabc4916df\" y=\"173.966753\"/>\n     <use style=\"fill:#1f77b4;stroke:#1f77b4;\" x=\"168.23427\" xlink:href=\"#meabc4916df\" y=\"171.567364\"/>\n     <use style=\"fill:#1f77b4;stroke:#1f77b4;\" x=\"132.085457\" xlink:href=\"#meabc4916df\" y=\"164.553766\"/>\n     <use style=\"fill:#1f77b4;stroke:#1f77b4;\" x=\"132.099323\" xlink:href=\"#meabc4916df\" y=\"170.380853\"/>\n     <use style=\"fill:#1f77b4;stroke:#1f77b4;\" x=\"186.011175\" xlink:href=\"#meabc4916df\" y=\"169.574026\"/>\n     <use style=\"fill:#1f77b4;stroke:#1f77b4;\" x=\"103.617299\" xlink:href=\"#meabc4916df\" y=\"168.868052\"/>\n     <use style=\"fill:#1f77b4;stroke:#1f77b4;\" x=\"103.617299\" xlink:href=\"#meabc4916df\" y=\"162.622897\"/>\n     <use style=\"fill:#1f77b4;stroke:#1f77b4;\" x=\"140.988664\" xlink:href=\"#meabc4916df\" y=\"168.868052\"/>\n     <use style=\"fill:#1f77b4;stroke:#1f77b4;\" x=\"140.988664\" xlink:href=\"#meabc4916df\" y=\"142.141892\"/>\n     <use style=\"fill:#1f77b4;stroke:#1f77b4;\" x=\"85.903403\" xlink:href=\"#meabc4916df\" y=\"168.868052\"/>\n     <use style=\"fill:#1f77b4;stroke:#1f77b4;\" x=\"85.903403\" xlink:href=\"#meabc4916df\" y=\"144.158961\"/>\n     <use style=\"fill:#1f77b4;stroke:#1f77b4;\" x=\"154.182405\" xlink:href=\"#meabc4916df\" y=\"140.629091\"/>\n     <use style=\"fill:#1f77b4;stroke:#1f77b4;\" x=\"123.803921\" xlink:href=\"#meabc4916df\" y=\"167.691429\"/>\n     <use style=\"fill:#1f77b4;stroke:#1f77b4;\" x=\"123.803921\" xlink:href=\"#meabc4916df\" y=\"158.278442\"/>\n     <use style=\"fill:#1f77b4;stroke:#1f77b4;\" x=\"139.525817\" xlink:href=\"#meabc4916df\" y=\"167.196008\"/>\n     <use style=\"fill:#1f77b4;stroke:#1f77b4;\" x=\"73.235043\" xlink:href=\"#meabc4916df\" y=\"166.346716\"/>\n     <use style=\"fill:#1f77b4;stroke:#1f77b4;\" x=\"73.235043\" xlink:href=\"#meabc4916df\" y=\"165.808831\"/>\n     <use style=\"fill:#1f77b4;stroke:#1f77b4;\" x=\"149.231166\" xlink:href=\"#meabc4916df\" y=\"165.808831\"/>\n     <use style=\"fill:#1f77b4;stroke:#1f77b4;\" x=\"149.231166\" xlink:href=\"#meabc4916df\" y=\"164.922903\"/>\n     <use style=\"fill:#1f77b4;stroke:#1f77b4;\" x=\"149.231166\" xlink:href=\"#meabc4916df\" y=\"145.727792\"/>\n     <use style=\"fill:#1f77b4;stroke:#1f77b4;\" x=\"160.835273\" xlink:href=\"#meabc4916df\" y=\"165.338182\"/>\n     <use style=\"fill:#1f77b4;stroke:#1f77b4;\" x=\"160.835273\" xlink:href=\"#meabc4916df\" y=\"158.278442\"/>\n     <use style=\"fill:#1f77b4;stroke:#1f77b4;\" x=\"160.835273\" xlink:href=\"#meabc4916df\" y=\"139.452468\"/>\n     <use style=\"fill:#1f77b4;stroke:#1f77b4;\" x=\"160.835273\" xlink:href=\"#meabc4916df\" y=\"122.97974\"/>\n     <use style=\"fill:#1f77b4;stroke:#1f77b4;\" x=\"160.835273\" xlink:href=\"#meabc4916df\" y=\"120.626494\"/>\n     <use style=\"fill:#1f77b4;stroke:#1f77b4;\" x=\"112.954946\" xlink:href=\"#meabc4916df\" y=\"165.338182\"/>\n     <use style=\"fill:#1f77b4;stroke:#1f77b4;\" x=\"112.954946\" xlink:href=\"#meabc4916df\" y=\"158.278442\"/>\n     <use style=\"fill:#1f77b4;stroke:#1f77b4;\" x=\"112.954946\" xlink:href=\"#meabc4916df\" y=\"158.278442\"/>\n     <use style=\"fill:#1f77b4;stroke:#1f77b4;\" x=\"112.954946\" xlink:href=\"#meabc4916df\" y=\"154.513247\"/>\n     <use style=\"fill:#1f77b4;stroke:#1f77b4;\" x=\"112.954946\" xlink:href=\"#meabc4916df\" y=\"154.244304\"/>\n     <use style=\"fill:#1f77b4;stroke:#1f77b4;\" x=\"93.821858\" xlink:href=\"#meabc4916df\" y=\"165.338182\"/>\n     <use style=\"fill:#1f77b4;stroke:#1f77b4;\" x=\"93.821858\" xlink:href=\"#meabc4916df\" y=\"158.278442\"/>\n     <use style=\"fill:#1f77b4;stroke:#1f77b4;\" x=\"94.447543\" xlink:href=\"#meabc4916df\" y=\"164.553766\"/>\n     <use style=\"fill:#1f77b4;stroke:#1f77b4;\" x=\"94.447543\" xlink:href=\"#meabc4916df\" y=\"149.58953\"/>\n     <use style=\"fill:#1f77b4;stroke:#1f77b4;\" x=\"117.884269\" xlink:href=\"#meabc4916df\" y=\"164.553766\"/>\n     <use style=\"fill:#1f77b4;stroke:#1f77b4;\" x=\"104.362232\" xlink:href=\"#meabc4916df\" y=\"164.553766\"/>\n     <use style=\"fill:#1f77b4;stroke:#1f77b4;\" x=\"143.350231\" xlink:href=\"#meabc4916df\" y=\"163.926234\"/>\n     <use style=\"fill:#1f77b4;stroke:#1f77b4;\" x=\"153.373938\" xlink:href=\"#meabc4916df\" y=\"162.312579\"/>\n     <use style=\"fill:#1f77b4;stroke:#1f77b4;\" x=\"231.769551\" xlink:href=\"#meabc4916df\" y=\"162.043636\"/>\n     <use style=\"fill:#1f77b4;stroke:#1f77b4;\" x=\"231.769551\" xlink:href=\"#meabc4916df\" y=\"142.141892\"/>\n     <use style=\"fill:#1f77b4;stroke:#1f77b4;\" x=\"116.488888\" xlink:href=\"#meabc4916df\" y=\"161.808312\"/>\n     <use style=\"fill:#1f77b4;stroke:#1f77b4;\" x=\"98.953248\" xlink:href=\"#meabc4916df\" y=\"161.416104\"/>\n     <use style=\"fill:#1f77b4;stroke:#1f77b4;\" x=\"98.953248\" xlink:href=\"#meabc4916df\" y=\"158.278442\"/>\n     <use style=\"fill:#1f77b4;stroke:#1f77b4;\" x=\"161.999692\" xlink:href=\"#meabc4916df\" y=\"148.311749\"/>\n     <use style=\"fill:#1f77b4;stroke:#1f77b4;\" x=\"139.932617\" xlink:href=\"#meabc4916df\" y=\"158.278442\"/>\n     <use style=\"fill:#1f77b4;stroke:#1f77b4;\" x=\"128.972358\" xlink:href=\"#meabc4916df\" y=\"158.278442\"/>\n     <use style=\"fill:#1f77b4;stroke:#1f77b4;\" x=\"146.015349\" xlink:href=\"#meabc4916df\" y=\"158.278442\"/>\n     <use style=\"fill:#1f77b4;stroke:#1f77b4;\" x=\"130.571911\" xlink:href=\"#meabc4916df\" y=\"158.278442\"/>\n     <use style=\"fill:#1f77b4;stroke:#1f77b4;\" x=\"171.300976\" xlink:href=\"#meabc4916df\" y=\"158.278442\"/>\n     <use style=\"fill:#1f77b4;stroke:#1f77b4;\" x=\"168.555708\" xlink:href=\"#meabc4916df\" y=\"154.956211\"/>\n     <use style=\"fill:#1f77b4;stroke:#1f77b4;\" x=\"146.920916\" xlink:href=\"#meabc4916df\" y=\"154.956211\"/>\n     <use style=\"fill:#1f77b4;stroke:#1f77b4;\" x=\"146.920916\" xlink:href=\"#meabc4916df\" y=\"154.513247\"/>\n     <use style=\"fill:#1f77b4;stroke:#1f77b4;\" x=\"155.520082\" xlink:href=\"#meabc4916df\" y=\"154.956211\"/>\n     <use style=\"fill:#1f77b4;stroke:#1f77b4;\" x=\"138.387682\" xlink:href=\"#meabc4916df\" y=\"154.748571\"/>\n     <use style=\"fill:#1f77b4;stroke:#1f77b4;\" x=\"142.041094\" xlink:href=\"#meabc4916df\" y=\"154.513247\"/>\n     <use style=\"fill:#1f77b4;stroke:#1f77b4;\" x=\"147.98165\" xlink:href=\"#meabc4916df\" y=\"152.630649\"/>\n     <use style=\"fill:#1f77b4;stroke:#1f77b4;\" x=\"147.98165\" xlink:href=\"#meabc4916df\" y=\"130.039481\"/>\n     <use style=\"fill:#1f77b4;stroke:#1f77b4;\" x=\"147.98165\" xlink:href=\"#meabc4916df\" y=\"130.039481\"/>\n     <use style=\"fill:#1f77b4;stroke:#1f77b4;\" x=\"202.40393\" xlink:href=\"#meabc4916df\" y=\"151.63398\"/>\n     <use style=\"fill:#1f77b4;stroke:#1f77b4;\" x=\"202.40393\" xlink:href=\"#meabc4916df\" y=\"150.748052\"/>\n     <use style=\"fill:#1f77b4;stroke:#1f77b4;\" x=\"165.832077\" xlink:href=\"#meabc4916df\" y=\"150.748052\"/>\n     <use style=\"fill:#1f77b4;stroke:#1f77b4;\" x=\"268.063947\" xlink:href=\"#meabc4916df\" y=\"148.311749\"/>\n     <use style=\"fill:#1f77b4;stroke:#1f77b4;\" x=\"213.437908\" xlink:href=\"#meabc4916df\" y=\"147.688831\"/>\n     <use style=\"fill:#1f77b4;stroke:#1f77b4;\" x=\"181.20589\" xlink:href=\"#meabc4916df\" y=\"147.688831\"/>\n     <use style=\"fill:#1f77b4;stroke:#1f77b4;\" x=\"181.20589\" xlink:href=\"#meabc4916df\" y=\"105.565714\"/>\n     <use style=\"fill:#1f77b4;stroke:#1f77b4;\" x=\"142.486448\" xlink:href=\"#meabc4916df\" y=\"146.982857\"/>\n     <use style=\"fill:#1f77b4;stroke:#1f77b4;\" x=\"139.332533\" xlink:href=\"#meabc4916df\" y=\"146.982857\"/>\n     <use style=\"fill:#1f77b4;stroke:#1f77b4;\" x=\"139.332533\" xlink:href=\"#meabc4916df\" y=\"139.452468\"/>\n     <use style=\"fill:#1f77b4;stroke:#1f77b4;\" x=\"139.332533\" xlink:href=\"#meabc4916df\" y=\"116.861299\"/>\n     <use style=\"fill:#1f77b4;stroke:#1f77b4;\" x=\"288.784943\" xlink:href=\"#meabc4916df\" y=\"146.982857\"/>\n     <use style=\"fill:#1f77b4;stroke:#1f77b4;\" x=\"288.784943\" xlink:href=\"#meabc4916df\" y=\"127.867253\"/>\n     <use style=\"fill:#1f77b4;stroke:#1f77b4;\" x=\"174.327162\" xlink:href=\"#meabc4916df\" y=\"145.727792\"/>\n     <use style=\"fill:#1f77b4;stroke:#1f77b4;\" x=\"174.327162\" xlink:href=\"#meabc4916df\" y=\"139.452468\"/>\n     <use style=\"fill:#1f77b4;stroke:#1f77b4;\" x=\"183.0022\" xlink:href=\"#meabc4916df\" y=\"143.41583\"/>\n     <use style=\"fill:#1f77b4;stroke:#1f77b4;\" x=\"127.049\" xlink:href=\"#meabc4916df\" y=\"143.41583\"/>\n     <use style=\"fill:#1f77b4;stroke:#1f77b4;\" x=\"142.849691\" xlink:href=\"#meabc4916df\" y=\"143.217662\"/>\n     <use style=\"fill:#1f77b4;stroke:#1f77b4;\" x=\"205.667048\" xlink:href=\"#meabc4916df\" y=\"142.59013\"/>\n     <use style=\"fill:#1f77b4;stroke:#1f77b4;\" x=\"205.667048\" xlink:href=\"#meabc4916df\" y=\"131.700596\"/>\n     <use style=\"fill:#1f77b4;stroke:#1f77b4;\" x=\"205.667048\" xlink:href=\"#meabc4916df\" y=\"115.089442\"/>\n     <use style=\"fill:#1f77b4;stroke:#1f77b4;\" x=\"205.667048\" xlink:href=\"#meabc4916df\" y=\"113.096104\"/>\n     <use style=\"fill:#1f77b4;stroke:#1f77b4;\" x=\"205.667048\" xlink:href=\"#meabc4916df\" y=\"113.096104\"/>\n     <use style=\"fill:#1f77b4;stroke:#1f77b4;\" x=\"170.215382\" xlink:href=\"#meabc4916df\" y=\"142.59013\"/>\n     <use style=\"fill:#1f77b4;stroke:#1f77b4;\" x=\"170.215382\" xlink:href=\"#meabc4916df\" y=\"135.687273\"/>\n     <use style=\"fill:#1f77b4;stroke:#1f77b4;\" x=\"205.722819\" xlink:href=\"#meabc4916df\" y=\"140.443308\"/>\n     <use style=\"fill:#1f77b4;stroke:#1f77b4;\" x=\"143.215581\" xlink:href=\"#meabc4916df\" y=\"138.511169\"/>\n     <use style=\"fill:#1f77b4;stroke:#1f77b4;\" x=\"287.636982\" xlink:href=\"#meabc4916df\" y=\"136.763043\"/>\n     <use style=\"fill:#1f77b4;stroke:#1f77b4;\" x=\"187.689872\" xlink:href=\"#meabc4916df\" y=\"136.314805\"/>\n     <use style=\"fill:#1f77b4;stroke:#1f77b4;\" x=\"241.026272\" xlink:href=\"#meabc4916df\" y=\"136.314805\"/>\n     <use style=\"fill:#1f77b4;stroke:#1f77b4;\" x=\"241.026272\" xlink:href=\"#meabc4916df\" y=\"135.022827\"/>\n     <use style=\"fill:#1f77b4;stroke:#1f77b4;\" x=\"241.026272\" xlink:href=\"#meabc4916df\" y=\"113.096104\"/>\n     <use style=\"fill:#1f77b4;stroke:#1f77b4;\" x=\"283.221158\" xlink:href=\"#meabc4916df\" y=\"135.687273\"/>\n     <use style=\"fill:#1f77b4;stroke:#1f77b4;\" x=\"283.221158\" xlink:href=\"#meabc4916df\" y=\"112.39013\"/>\n     <use style=\"fill:#1f77b4;stroke:#1f77b4;\" x=\"145.461649\" xlink:href=\"#meabc4916df\" y=\"133.569351\"/>\n     <use style=\"fill:#1f77b4;stroke:#1f77b4;\" x=\"167.029291\" xlink:href=\"#meabc4916df\" y=\"131.922078\"/>\n     <use style=\"fill:#1f77b4;stroke:#1f77b4;\" x=\"167.029291\" xlink:href=\"#meabc4916df\" y=\"118.411673\"/>\n     <use style=\"fill:#1f77b4;stroke:#1f77b4;\" x=\"228.744726\" xlink:href=\"#meabc4916df\" y=\"126.005343\"/>\n     <use style=\"fill:#1f77b4;stroke:#1f77b4;\" x=\"199.948106\" xlink:href=\"#meabc4916df\" y=\"123.522797\"/>\n     <use style=\"fill:#1f77b4;stroke:#1f77b4;\" x=\"199.948106\" xlink:href=\"#meabc4916df\" y=\"113.096104\"/>\n     <use style=\"fill:#1f77b4;stroke:#1f77b4;\" x=\"246.765914\" xlink:href=\"#meabc4916df\" y=\"120.626494\"/>\n     <use style=\"fill:#1f77b4;stroke:#1f77b4;\" x=\"171.397075\" xlink:href=\"#meabc4916df\" y=\"120.626494\"/>\n     <use style=\"fill:#1f77b4;stroke:#1f77b4;\" x=\"227.16426\" xlink:href=\"#meabc4916df\" y=\"118.411673\"/>\n     <use style=\"fill:#1f77b4;stroke:#1f77b4;\" x=\"224.253355\" xlink:href=\"#meabc4916df\" y=\"112.39013\"/>\n     <use style=\"fill:#1f77b4;stroke:#1f77b4;\" x=\"224.253355\" xlink:href=\"#meabc4916df\" y=\"101.800519\"/>\n     <use style=\"fill:#1f77b4;stroke:#1f77b4;\" x=\"192.989363\" xlink:href=\"#meabc4916df\" y=\"110.718086\"/>\n     <use style=\"fill:#1f77b4;stroke:#1f77b4;\" x=\"348.067979\" xlink:href=\"#meabc4916df\" y=\"108.075844\"/>\n     <use style=\"fill:#1f77b4;stroke:#1f77b4;\" x=\"348.067979\" xlink:href=\"#meabc4916df\" y=\"105.834657\"/>\n     <use style=\"fill:#1f77b4;stroke:#1f77b4;\" x=\"348.067979\" xlink:href=\"#meabc4916df\" y=\"101.800519\"/>\n     <use style=\"fill:#1f77b4;stroke:#1f77b4;\" x=\"348.067979\" xlink:href=\"#meabc4916df\" y=\"78.020342\"/>\n     <use style=\"fill:#1f77b4;stroke:#1f77b4;\" x=\"160.246303\" xlink:href=\"#meabc4916df\" y=\"105.834657\"/>\n     <use style=\"fill:#1f77b4;stroke:#1f77b4;\" x=\"328.551997\" xlink:href=\"#meabc4916df\" y=\"85.66397\"/>\n    </g>\n   </g>\n   <g id=\"patch_3\">\n    <path d=\"M 30.103125 224.64 \nL 30.103125 7.2 \n\" style=\"fill:none;stroke:#000000;stroke-linecap:square;stroke-linejoin:miter;stroke-width:0.8;\"/>\n   </g>\n   <g id=\"patch_4\">\n    <path d=\"M 364.903125 224.64 \nL 364.903125 7.2 \n\" style=\"fill:none;stroke:#000000;stroke-linecap:square;stroke-linejoin:miter;stroke-width:0.8;\"/>\n   </g>\n   <g id=\"patch_5\">\n    <path d=\"M 30.103125 224.64 \nL 364.903125 224.64 \n\" style=\"fill:none;stroke:#000000;stroke-linecap:square;stroke-linejoin:miter;stroke-width:0.8;\"/>\n   </g>\n   <g id=\"patch_6\">\n    <path d=\"M 30.103125 7.2 \nL 364.903125 7.2 \n\" style=\"fill:none;stroke:#000000;stroke-linecap:square;stroke-linejoin:miter;stroke-width:0.8;\"/>\n   </g>\n  </g>\n </g>\n <defs>\n  <clipPath id=\"p27c4badc8b\">\n   <rect height=\"217.44\" width=\"334.8\" x=\"30.103125\" y=\"7.2\"/>\n  </clipPath>\n </defs>\n</svg>\n",
      "image/png": "[encoded data removed]"
     },
     "metadata": {
      "needs_background": "light"
     }
    }
   ],
   "source": [
    "plt.plot(trial_predictions, trial_complexity, 'o')"
   ]
  },
  {
   "cell_type": "markdown",
   "metadata": {},
   "source": [
    "#### Testing whether frequency feature on its own impacts predictability"
   ]
  },
  {
   "cell_type": "code",
   "execution_count": 10,
   "metadata": {},
   "outputs": [
    {
     "output_type": "stream",
     "name": "stdout",
     "text": [
      "Train R^2: 0.07398706421807888\nTrain L1: 0.09877410148442772\nTrial R^2: 0.07926142162403116\nTrial L1: 0.11109627804066761\n"
     ]
    }
   ],
   "source": [
    "linreg.fit(freqCounts, complexity)\n",
    "predictions = linreg.predict(freqCounts)\n",
    "\n",
    "# eval on trial data\n",
    "trial_predictions = linreg.predict(trial_freqCounts)\n",
    "\n",
    "print(\"Train R^2:\", linreg.score(freqCounts, complexity))\n",
    "print(\"Train L1:\", np.mean(np.abs(predictions - complexity)))\n",
    "print(\"Trial R^2:\", linreg.score(trial_freqCounts, trial_complexity))\n",
    "print(\"Trial L1:\", np.mean(np.abs(trial_predictions - trial_complexity)))\n",
    "\n"
   ]
  },
  {
   "cell_type": "code",
   "execution_count": 45,
   "metadata": {
    "scrolled": true
   },
   "outputs": [
    {
     "data": {
      "text/plain": [
       "[<matplotlib.lines.Line2D at 0x7ff0d4c510a0>]"
      ]
     },
     "execution_count": 45,
     "metadata": {},
     "output_type": "execute_result"
    },
    {
     "data": {
      "image/png": "[encoded data removed]",
      "text/plain": [
       "<Figure size 432x288 with 1 Axes>"
      ]
     },
     "metadata": {
      "needs_background": "light"
     },
     "output_type": "display_data"
    }
   ],
   "source": [
    "plt.plot(trial_freqCounts, trial_complexity, 'o')"
   ]
  },
  {
   "cell_type": "markdown",
   "metadata": {},
   "source": [
    "## Feature 2: Number of characters in Word + Glove\n"
   ]
  },
  {
   "cell_type": "code",
   "execution_count": 11,
   "metadata": {},
   "outputs": [
    {
     "output_type": "stream",
     "name": "stdout",
     "text": [
      "Train R^2: 0.614397063924669\nTrain L1: 0.06467616967779471\n"
     ]
    }
   ],
   "source": [
    "#combined with Glove Matrix\n",
    "training_data = np.append(gloveMatrix, charCounts, axis=1)\n",
    "\n",
    "linreg.fit(training_data, complexity)\n",
    "predictions = linreg.predict(training_data)\n",
    "\n",
    "print(\"Train R^2:\", linreg.score(training_data, complexity))\n",
    "print(\"Train L1:\", np.mean(np.abs(predictions - complexity)))\n",
    "\n",
    "\n"
   ]
  },
  {
   "cell_type": "code",
   "execution_count": 47,
   "metadata": {},
   "outputs": [
    {
     "name": "stdout",
     "output_type": "stream",
     "text": [
      "Train R^2: 0.614397063924669\n",
      "Train L1: 0.06467616967779471\n",
      "Trial R^2: 0.6165457073595475\n",
      "Trial L1: 0.07170307563381445\n"
     ]
    }
   ],
   "source": [
    "# eval on trial data\n",
    "trial_data = np.append(gloveMatrix_trial, trial_charCounts, axis=1)\n",
    "trial_predictions = linreg.predict(trial_data)\n",
    "\n",
    "print(\"Train R^2:\", linreg.score(training_data, complexity))\n",
    "print(\"Train L1:\", np.mean(np.abs(predictions - complexity)))\n",
    "print(\"Trial R^2:\", linreg.score(trial_data, trial_complexity))\n",
    "print(\"Trial L1:\", np.mean(np.abs(trial_predictions - trial_complexity)))\n"
   ]
  },
  {
   "cell_type": "markdown",
   "metadata": {},
   "source": [
    "### Combining Feature 1 and Feature 2 + Glove\n"
   ]
  },
  {
   "cell_type": "code",
   "execution_count": 48,
   "metadata": {},
   "outputs": [
    {
     "name": "stdout",
     "output_type": "stream",
     "text": [
      "Train R^2: 0.6139223717467733\n",
      "Train L1: 0.06463285102250567\n"
     ]
    },
    {
     "name": "stderr",
     "output_type": "stream",
     "text": [
      "/Applications/anaconda3/lib/python3.8/site-packages/sklearn/linear_model/_ridge.py:147: LinAlgWarning: Ill-conditioned matrix (rcond=2.62321e-19): result may not be accurate.\n",
      "  return linalg.solve(A, Xy, sym_pos=True,\n"
     ]
    }
   ],
   "source": [
    "#Glove matrix + frequency + charCounts feature as final columns\n",
    "training_data = np.append(gloveMatrix, freqCounts, axis=1)\n",
    "training_data = np.append(training_data, charCounts, axis=1)\n",
    "\n",
    "#Training \n",
    "clf.fit(training_data, complexity)\n",
    "predictions = clf.predict(training_data)\n",
    "\n",
    "print(\"Train R^2:\", clf.score(training_data, complexity))\n",
    "print(\"Train L1:\", np.mean(np.abs(predictions - complexity)))\n",
    "\n"
   ]
  },
  {
   "cell_type": "code",
   "execution_count": 49,
   "metadata": {},
   "outputs": [
    {
     "name": "stdout",
     "output_type": "stream",
     "text": [
      "Train R^2: 0.6139223717467733\n",
      "Train L1: 0.06463285102250567\n",
      "Trial R^2: 0.6201458589665196\n",
      "Trial L1: 0.07119825953981555\n"
     ]
    }
   ],
   "source": [
    "# eval on trial data\n",
    "trial_data = np.append(gloveMatrix_trial, trial_freqCounts, axis=1)\n",
    "trial_data = np.append(trial_data, trial_charCounts, axis=1)\n",
    "\n",
    "trial_predictions = clf.predict(trial_data)\n",
    "\n",
    "\n",
    "print(\"Train R^2:\", clf.score(training_data, complexity))\n",
    "print(\"Train L1:\", np.mean(np.abs(predictions - complexity)))\n",
    "print(\"Trial R^2:\", clf.score(trial_data, trial_complexity))\n",
    "print(\"Trial L1:\", np.mean(np.abs(trial_predictions - trial_complexity)))"
   ]
  },
  {
   "cell_type": "markdown",
   "metadata": {},
   "source": [
    "## Feature 3: Capitalization + Glove"
   ]
  },
  {
   "cell_type": "code",
   "execution_count": 50,
   "metadata": {},
   "outputs": [
    {
     "name": "stdout",
     "output_type": "stream",
     "text": [
      "Train R^2: 0.6201812711686343\n",
      "Train L1: 0.06402125725578454\n"
     ]
    }
   ],
   "source": [
    "#combined with Glove Matrix\n",
    "training_data = np.append(gloveMatrix, capitalCounts, axis=1)\n",
    "\n",
    "linreg.fit(training_data, complexity)\n",
    "predictions = linreg.predict(training_data)\n",
    "\n",
    "print(\"Train R^2:\", linreg.score(training_data, complexity))\n",
    "print(\"Train L1:\", np.mean(np.abs(predictions - complexity)))\n"
   ]
  },
  {
   "cell_type": "code",
   "execution_count": 51,
   "metadata": {},
   "outputs": [
    {
     "name": "stdout",
     "output_type": "stream",
     "text": [
      "Train R^2: 0.6201812711686343\n",
      "Train L1: 0.06402125725578454\n",
      "Trial R^2: 0.6261338084386756\n",
      "Trial L1: 0.07105092988446379\n"
     ]
    }
   ],
   "source": [
    "# eval on trial data- combined with Glove Matrix\n",
    "trial_data = np.append(gloveMatrix_trial, trial_capCounts, axis=1)\n",
    "trial_predictions = linreg.predict(trial_data)\n",
    "\n",
    "print(\"Train R^2:\", linreg.score(training_data, complexity))\n",
    "print(\"Train L1:\", np.mean(np.abs(predictions - complexity)))\n",
    "print(\"Trial R^2:\", linreg.score(trial_data, trial_complexity))\n",
    "print(\"Trial L1:\", np.mean(np.abs(trial_predictions - trial_complexity)))"
   ]
  },
  {
   "cell_type": "markdown",
   "metadata": {},
   "source": [
    "### Combining Feature 1 + Feature 2 + Feature 3 + Glove"
   ]
  },
  {
   "cell_type": "code",
   "execution_count": 52,
   "metadata": {},
   "outputs": [
    {
     "name": "stdout",
     "output_type": "stream",
     "text": [
      "Train R^2: 0.6204829102612623\n",
      "Train L1: 0.06400888034320355\n"
     ]
    },
    {
     "name": "stderr",
     "output_type": "stream",
     "text": [
      "/Applications/anaconda3/lib/python3.8/site-packages/sklearn/linear_model/_ridge.py:147: LinAlgWarning: Ill-conditioned matrix (rcond=2.61927e-19): result may not be accurate.\n",
      "  return linalg.solve(A, Xy, sym_pos=True,\n"
     ]
    }
   ],
   "source": [
    "#Glove matrix + frequency + charCounts + capitalCounts feature as final columns\n",
    "training_data = np.append(gloveMatrix, freqCounts, axis=1)\n",
    "training_data = np.append(training_data, charCounts, axis=1)\n",
    "training_data = np.append(training_data, capitalCounts, axis=1)\n",
    "\n",
    "#Training \n",
    "clf.fit(training_data, complexity)\n",
    "predictions = clf.predict(training_data)\n",
    "\n",
    "print(\"Train R^2:\", clf.score(training_data, complexity))\n",
    "print(\"Train L1:\", np.mean(np.abs(predictions - complexity)))\n"
   ]
  },
  {
   "cell_type": "code",
   "execution_count": 53,
   "metadata": {},
   "outputs": [
    {
     "name": "stdout",
     "output_type": "stream",
     "text": [
      "Train R^2: 0.6204829102612623\n",
      "Train L1: 0.06400888034320355\n",
      "Trial R^2: 0.6267820710997033\n",
      "Trial L1: 0.07056499188846044\n"
     ]
    }
   ],
   "source": [
    "# eval on trial data\n",
    "trial_data = np.append(gloveMatrix_trial, trial_freqCounts, axis=1)\n",
    "trial_data = np.append(trial_data, trial_charCounts, axis=1)\n",
    "trial_data = np.append(trial_data, trial_capCounts, axis=1)\n",
    "\n",
    "trial_predictions = clf.predict(trial_data)\n",
    "\n",
    "print(\"Train R^2:\", clf.score(training_data, complexity))\n",
    "print(\"Train L1:\", np.mean(np.abs(predictions - complexity)))\n",
    "print(\"Trial R^2:\", clf.score(trial_data, trial_complexity))\n",
    "print(\"Trial L1:\", np.mean(np.abs(trial_predictions - trial_complexity)))"
   ]
  },
  {
   "cell_type": "code",
   "execution_count": null,
   "metadata": {},
   "outputs": [],
   "source": []
  }
 ],
 "metadata": {
  "kernelspec": {
   "display_name": "Python 3",
   "language": "python",
   "name": "python3"
  }
 },
 "nbformat": 4,
 "nbformat_minor": 4
}