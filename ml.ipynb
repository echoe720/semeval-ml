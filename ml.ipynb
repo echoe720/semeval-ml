{
 "cells": [
  {
   "cell_type": "code",
   "execution_count": 37,
   "metadata": {},
   "outputs": [],
   "source": [
    "import pandas as pd\n",
    "import numpy as np\n",
    "from torchtext.vocab import GloVe\n",
    "import time\n",
    "from sklearn.linear_model import LinearRegression\n",
    "import matplotlib.pyplot as plt\n",
    "import csv\n",
    "from sklearn.linear_model import Ridge\n",
    "import syllables\n",
    "from sklearn import preprocessing"
   ]
  },
  {
   "cell_type": "markdown",
   "metadata": {},
   "source": [
    "#### Defines Plot Building Function"
   ]
  },
  {
   "cell_type": "code",
   "execution_count": 38,
   "metadata": {},
   "outputs": [],
   "source": [
    "def plotCharts(predictions, truth):\n",
    "    plt.plot(predictions, truth, 'o')\n",
    "    plt.title(\"Predictions vs. truth on the trial set\")\n",
    "    plt.savefig(\"trial_regression.png\")\n",
    "    plt.show()\n",
    "\n",
    "    plt.plot(predictions, predictions - truth, 'o')\n",
    "    plt.title(\"Predicted vs L1 error no abs\")\n",
    "    plt.show()\n",
    "\n",
    "    plt.plot(trial_complexity, predictions - truth, 'o')\n",
    "    std = np.std(predictions - trial_complexity)\n",
    "    plt.title(\"Truth vs L1 error no abs, STD: {}\".format(round(std, 4)))\n",
    "    plt.show()"
   ]
  },
  {
   "cell_type": "markdown",
   "metadata": {},
   "source": [
    "#### Global, One-time declarations"
   ]
  },
  {
   "cell_type": "code",
   "execution_count": 39,
   "metadata": {},
   "outputs": [],
   "source": [
    "df = pd.read_csv('datasets/lcp_single_train.tsv', delimiter='\\t')\n",
    "df_trial = pd.read_csv('datasets/lcp_single_trial.tsv', delimiter='\\t')\n",
    "#------------------------------------------------------------------------------\n",
    "glove = GloVe(cache='GloVe/')\n",
    "#------------------------------------------------------------------------------\n",
    "df['glove'] = df.apply(lambda row: glove[row['token']].numpy(), axis=1)\n",
    "df_trial['glove'] = df_trial.apply(lambda row: glove[row['token']].numpy(), axis=1)\n",
    "gloveMatrix = np.stack(df['glove'].tolist())\n",
    "gloveMatrix_trial = np.stack(df_trial['glove'].tolist())\n",
    "#------------------------------------------------------------------------------\n",
    "complexity = df['complexity']\n",
    "trial_complexity = df_trial['complexity']\n",
    "#------------------------------------------------------------------------------\n",
    "linreg = LinearRegression()\n",
    "clf = Ridge(alpha=30)\n",
    "#------------------------------------------------------------------------------\n",
    "f = open('datasets/unigram_freq.csv')\n",
    "reader = csv.reader(f)\n",
    "#------------------------------------------------------------------------------\n",
    "wordToCounts = {}\n",
    "for row in reader: wordToCounts[row[0]] = row[1]\n",
    "    "
   ]
  },
  {
   "cell_type": "markdown",
   "metadata": {},
   "source": [
    "#### Declaring all manual features:"
   ]
  },
  {
   "cell_type": "code",
   "execution_count": 40,
   "metadata": {},
   "outputs": [],
   "source": [
    "freqCounts = [wordToCounts[str(word).lower()] \n",
    "               if str(word).lower() in wordToCounts else 0.0001 \n",
    "               for word in df['token'].tolist()]  \n",
    "freqCounts = np.reshape(np.array(freqCounts, dtype='float64'), (len(complexity), 1))\n",
    "trial_freqCounts = [wordToCounts[str(word).lower()] if str(word).lower() in wordToCounts else 0.0001 for word in df_trial['token'].tolist()]\n",
    "trial_freqCounts = np.reshape(np.array(trial_freqCounts, dtype='float64'), (len(trial_complexity), 1))\n",
    "\n",
    "\n",
    "#------------------------------------------------------------------------------\n",
    "charCounts = np.reshape(np.array([len(str(word)) for word in df['token']]), (len(complexity), 1))\n",
    "trial_charCounts = np.reshape(np.array([len(str(word)) for word in df_trial['token']], dtype='float64'), (len(trial_complexity), 1))\n",
    "#------------------------------------------------------------------------------\n",
    "capitalCounts = []\n",
    "for word in df['token']:\n",
    "    count = 0\n",
    "    for ch in str(word):\n",
    "        if ch.isupper():\n",
    "            count += 1\n",
    "    capitalCounts.append(count)\n",
    "    \n",
    "capitalCounts = np.reshape(np.array(capitalCounts), (len(complexity), 1))\n",
    "                           \n",
    "trial_capCounts = []\n",
    "for word in df_trial['token']:\n",
    "    count = 0\n",
    "    for ch in str(word):\n",
    "        if ch.isupper():\n",
    "            count += 1\n",
    "    trial_capCounts.append(count)\n",
    "                           \n",
    "trial_capCounts = np.reshape(np.array(trial_capCounts), (len(trial_complexity), 1))"
   ]
  },
  {
   "cell_type": "markdown",
   "metadata": {},
   "source": [
    "#### Scaling the features"
   ]
  },
  {
   "cell_type": "code",
   "execution_count": 41,
   "metadata": {},
   "outputs": [],
   "source": [
    "freqScaler = preprocessing.StandardScaler().fit(freqCounts)\n",
    "freqCounts = freqScaler.transform(freqCounts)\n",
    "trial_freqCounts = freqScaler.transform(trial_freqCounts)\n",
    "charScaler = preprocessing.StandardScaler().fit(charCounts)\n",
    "charCounts = charScaler.transform(charCounts)\n",
    "trial_charCounts = charScaler.transform(trial_charCounts)\n",
    "capitalScaler = preprocessing.StandardScaler().fit(capitalCounts)\n",
    "capitalCounts = capitalScaler.transform(capitalCounts)\n",
    "trial_capCounts = capitalScaler.transform(trial_capCounts)"
   ]
  },
  {
   "cell_type": "markdown",
   "metadata": {},
   "source": [
    "## Feature 1: Frequency + Glove"
   ]
  },
  {
   "cell_type": "code",
   "execution_count": 15,
   "metadata": {},
   "outputs": [],
   "source": [
    "#Glove matrix + frequency feature as final column\n",
    "training_data = np.append(gloveMatrix, freqCounts, axis=1)\n"
   ]
  },
  {
   "cell_type": "code",
   "execution_count": 16,
   "metadata": {},
   "outputs": [],
   "source": [
    "#Training \n",
    "linreg.fit(training_data, complexity)\n",
    "predictions = linreg.predict(training_data)\n",
    "\n",
    "# clf.fit(training_data, complexity)\n",
    "# predictions = clf.predict(training_data)\n"
   ]
  },
  {
   "cell_type": "code",
   "execution_count": 18,
   "metadata": {},
   "outputs": [
    {
     "name": "stdout",
     "output_type": "stream",
     "text": [
      "Train R^2 0.6117951321590476\n",
      "Train L2: 0.06483158278330528\n",
      "Trial R^2: 0.6198303396914296\n",
      "Trial L2: 0.07189736871833878\n"
     ]
    }
   ],
   "source": [
    "# eval on trial data\n",
    "trial_data = np.append(gloveMatrix_trial, trial_freqCounts, axis=1)\n",
    "trial_predictions = linreg.predict(trial_data)\n",
    "\n",
    "print(\"Train R^2\", linreg.score(training_data, complexity))\n",
    "print(\"Train L2:\", np.mean(np.abs(predictions - complexity)))\n",
    "print(\"Trial R^2:\", linreg.score(trial_data, trial_complexity))\n",
    "print(\"Trial L2:\", np.mean(np.abs(trial_predictions - trial_complexity)))"
   ]
  },
  {
   "cell_type": "code",
   "execution_count": 19,
   "metadata": {},
   "outputs": [
    {
     "data": {
      "text/plain": [
       "[<matplotlib.lines.Line2D at 0x7f8a357985e0>]"
      ]
     },
     "execution_count": 19,
     "metadata": {},
     "output_type": "execute_result"
    },
    {
     "data": {
      "image/png": "[encoded data removed]",
      "text/plain": [
       "<Figure size 432x288 with 1 Axes>"
      ]
     },
     "metadata": {
      "needs_background": "light"
     },
     "output_type": "display_data"
    }
   ],
   "source": [
    "plt.plot(trial_predictions, trial_complexity, 'o')"
   ]
  },
  {
   "cell_type": "markdown",
   "metadata": {},
   "source": [
    "#### Testing whether frequency feature on its own impacts predictability"
   ]
  },
  {
   "cell_type": "code",
   "execution_count": 34,
   "metadata": {},
   "outputs": [
    {
     "name": "stdout",
     "output_type": "stream",
     "text": [
      "Train R^2: 0.07398706421807888\n",
      "Train L1: 0.09877410148442771\n",
      "Trial R^2: 0.12081192789013062\n",
      "Trial L1: 0.10766604396504915\n"
     ]
    }
   ],
   "source": [
    "linreg.fit(freqCounts, complexity)\n",
    "predictions = linreg.predict(freqCounts)\n",
    "\n",
    "# eval on trial data\n",
    "trial_predictions = linreg.predict(trial_freqCounts)\n",
    "\n",
    "print(\"Train R^2:\", linreg.score(freqCounts, complexity))\n",
    "print(\"Train L1:\", np.mean(np.abs(predictions - complexity)))\n",
    "print(\"Trial R^2:\", linreg.score(trial_freqCounts, trial_complexity))\n",
    "print(\"Trial L1:\", np.mean(np.abs(trial_predictions - trial_complexity)))\n",
    "\n"
   ]
  },
  {
   "cell_type": "code",
   "execution_count": 21,
   "metadata": {
    "scrolled": true
   },
   "outputs": [
    {
     "data": {
      "text/plain": [
       "[<matplotlib.lines.Line2D at 0x7f8a35affac0>]"
      ]
     },
     "execution_count": 21,
     "metadata": {},
     "output_type": "execute_result"
    },
    {
     "data": {
      "image/png": "[encoded data removed]",
      "text/plain": [
       "<Figure size 432x288 with 1 Axes>"
      ]
     },
     "metadata": {
      "needs_background": "light"
     },
     "output_type": "display_data"
    }
   ],
   "source": [
    "plt.plot(trial_freqCounts, trial_complexity, 'o')"
   ]
  },
  {
   "cell_type": "markdown",
   "metadata": {},
   "source": [
    "## Feature 2: Number of characters in Word + Glove\n"
   ]
  },
  {
   "cell_type": "code",
   "execution_count": 22,
   "metadata": {},
   "outputs": [
    {
     "name": "stdout",
     "output_type": "stream",
     "text": [
      "Train R^2: 0.614397063924669\n",
      "Train L1: 0.06467616967779471\n"
     ]
    }
   ],
   "source": [
    "#combined with Glove Matrix\n",
    "training_data = np.append(gloveMatrix, charCounts, axis=1)\n",
    "\n",
    "linreg.fit(training_data, complexity)\n",
    "predictions = linreg.predict(training_data)\n",
    "\n",
    "print(\"Train R^2:\", linreg.score(training_data, complexity))\n",
    "print(\"Train L1:\", np.mean(np.abs(predictions - complexity)))\n",
    "\n",
    "\n"
   ]
  },
  {
   "cell_type": "code",
   "execution_count": 23,
   "metadata": {},
   "outputs": [
    {
     "name": "stdout",
     "output_type": "stream",
     "text": [
      "Train R^2: 0.614397063924669\n",
      "Train L1: 0.06467616967779471\n",
      "Trial R^2: 0.6165273209184048\n",
      "Trial L1: 0.07168338676546955\n"
     ]
    }
   ],
   "source": [
    "# eval on trial data\n",
    "trial_data = np.append(gloveMatrix_trial, trial_charCounts, axis=1)\n",
    "trial_predictions = linreg.predict(trial_data)\n",
    "\n",
    "print(\"Train R^2:\", linreg.score(training_data, complexity))\n",
    "print(\"Train L1:\", np.mean(np.abs(predictions - complexity)))\n",
    "print(\"Trial R^2:\", linreg.score(trial_data, trial_complexity))\n",
    "print(\"Trial L1:\", np.mean(np.abs(trial_predictions - trial_complexity)))\n"
   ]
  },
  {
   "cell_type": "markdown",
   "metadata": {},
   "source": [
    "### Combining Feature 1 and Feature 2 + Glove\n"
   ]
  },
  {
   "cell_type": "code",
   "execution_count": 24,
   "metadata": {},
   "outputs": [
    {
     "name": "stdout",
     "output_type": "stream",
     "text": [
      "Train R^2: 0.6145991152589811\n",
      "Train L1: 0.06464922936269894\n"
     ]
    }
   ],
   "source": [
    "#Glove matrix + frequency + charCounts feature as final columns\n",
    "training_data = np.append(gloveMatrix, freqCounts, axis=1)\n",
    "training_data = np.append(training_data, charCounts, axis=1)\n",
    "\n",
    "#Training \n",
    "clf.fit(training_data, complexity)\n",
    "predictions = clf.predict(training_data)\n",
    "\n",
    "print(\"Train R^2:\", clf.score(training_data, complexity))\n",
    "print(\"Train L1:\", np.mean(np.abs(predictions - complexity)))\n",
    "\n"
   ]
  },
  {
   "cell_type": "code",
   "execution_count": 25,
   "metadata": {},
   "outputs": [
    {
     "name": "stdout",
     "output_type": "stream",
     "text": [
      "Train R^2: 0.6145991152589811\n",
      "Train L1: 0.06464922936269894\n",
      "Trial R^2: 0.6181014355987176\n",
      "Trial L1: 0.07159215755179724\n"
     ]
    }
   ],
   "source": [
    "# eval on trial data\n",
    "trial_data = np.append(gloveMatrix_trial, trial_freqCounts, axis=1)\n",
    "trial_data = np.append(trial_data, trial_charCounts, axis=1)\n",
    "\n",
    "trial_predictions = clf.predict(trial_data)\n",
    "\n",
    "\n",
    "print(\"Train R^2:\", clf.score(training_data, complexity))\n",
    "print(\"Train L1:\", np.mean(np.abs(predictions - complexity)))\n",
    "print(\"Trial R^2:\", clf.score(trial_data, trial_complexity))\n",
    "print(\"Trial L1:\", np.mean(np.abs(trial_predictions - trial_complexity)))"
   ]
  },
  {
   "cell_type": "markdown",
   "metadata": {},
   "source": [
    "## Feature 3: Capitalization + Glove"
   ]
  },
  {
   "cell_type": "code",
   "execution_count": 20,
   "metadata": {},
   "outputs": [
    {
     "name": "stdout",
     "output_type": "stream",
     "text": [
      "Train R^2: 0.6201812711686343\n",
      "Train L1: 0.06402125725578459\n"
     ]
    }
   ],
   "source": [
    "#combined with Glove Matrix\n",
    "training_data = np.append(gloveMatrix, capitalCounts, axis=1)\n",
    "\n",
    "linreg.fit(training_data, complexity)\n",
    "predictions = linreg.predict(training_data)\n",
    "\n",
    "print(\"Train R^2:\", linreg.score(training_data, complexity))\n",
    "print(\"Train L1:\", np.mean(np.abs(predictions - complexity)))\n"
   ]
  },
  {
   "cell_type": "code",
   "execution_count": 51,
   "metadata": {},
   "outputs": [
    {
     "name": "stdout",
     "output_type": "stream",
     "text": [
      "Train R^2: 0.6201812711686343\n",
      "Train L1: 0.06402125725578454\n",
      "Trial R^2: 0.6261338084386756\n",
      "Trial L1: 0.07105092988446379\n"
     ]
    }
   ],
   "source": [
    "# eval on trial data- combined with Glove Matrix\n",
    "trial_data = np.append(gloveMatrix_trial, trial_capCounts, axis=1)\n",
    "trial_predictions = linreg.predict(trial_data)\n",
    "\n",
    "print(\"Train R^2:\", linreg.score(training_data, complexity))\n",
    "print(\"Train L1:\", np.mean(np.abs(predictions - complexity)))\n",
    "print(\"Trial R^2:\", linreg.score(trial_data, trial_complexity))\n",
    "print(\"Trial L1:\", np.mean(np.abs(trial_predictions - trial_complexity)))"
   ]
  },
  {
   "cell_type": "markdown",
   "metadata": {},
   "source": [
    "### Combining Feature 1 + Feature 2 + Feature 3 + Glove"
   ]
  },
  {
   "cell_type": "code",
   "execution_count": 22,
   "metadata": {},
   "outputs": [
    {
     "name": "stdout",
     "output_type": "stream",
     "text": [
      "Train R^2: 0.6204829102612623\n",
      "Train L1: 0.06400888034320354\n"
     ]
    },
    {
     "name": "stderr",
     "output_type": "stream",
     "text": [
      "/Users/erikrozi/opt/anaconda3/lib/python3.8/site-packages/sklearn/linear_model/_ridge.py:147: LinAlgWarning: Ill-conditioned matrix (rcond=2.61927e-19): result may not be accurate.\n",
      "  return linalg.solve(A, Xy, sym_pos=True,\n"
     ]
    }
   ],
   "source": [
    "#Glove matrix + frequency + charCounts + capitalCounts feature as final columns\n",
    "training_data = np.append(gloveMatrix, freqCounts, axis=1)\n",
    "training_data = np.append(training_data, charCounts, axis=1)\n",
    "training_data = np.append(training_data, capitalCounts, axis=1)\n",
    "\n",
    "#Training \n",
    "clf.fit(training_data, complexity)\n",
    "predictions = clf.predict(training_data)\n",
    "\n",
    "print(\"Train R^2:\", clf.score(training_data, complexity))\n",
    "print(\"Train L1:\", np.mean(np.abs(predictions - complexity)))\n"
   ]
  },
  {
   "cell_type": "code",
   "execution_count": 23,
   "metadata": {},
   "outputs": [
    {
     "name": "stdout",
     "output_type": "stream",
     "text": [
      "Train R^2: 0.6204829102612623\n",
      "Train L1: 0.06400888034320354\n",
      "Trial R^2: 0.6267820710997034\n",
      "Trial L1: 0.07056499188846042\n"
     ]
    }
   ],
   "source": [
    "# eval on trial data\n",
    "trial_data = np.append(gloveMatrix_trial, trial_freqCounts, axis=1)\n",
    "trial_data = np.append(trial_data, trial_charCounts, axis=1)\n",
    "trial_data = np.append(trial_data, trial_capCounts, axis=1)\n",
    "\n",
    "trial_predictions = clf.predict(trial_data)\n",
    "\n",
    "print(\"Train R^2:\", clf.score(training_data, complexity))\n",
    "print(\"Train L1:\", np.mean(np.abs(predictions - complexity)))\n",
    "print(\"Trial R^2:\", clf.score(trial_data, trial_complexity))\n",
    "print(\"Trial L1:\", np.mean(np.abs(trial_predictions - trial_complexity)))"
   ]
  },
  {
   "cell_type": "markdown",
   "metadata": {},
   "source": [
    "# SVR Combining Feature 1, 2, 3"
   ]
  },
  {
   "cell_type": "code",
   "execution_count": 50,
   "metadata": {},
   "outputs": [
    {
     "name": "stdout",
     "output_type": "stream",
     "text": [
      "Train R^2 0.8293484728888393\n",
      "Train L1: 0.0360972554175941\n",
      "Trial R^2: 0.6640311620882838\n",
      "Trial L1: 0.06691694887877198\n"
     ]
    },
    {
     "data": {
      "image/png": "[encoded data removed]",
      "text/plain": [
       "<Figure size 432x288 with 1 Axes>"
      ]
     },
     "metadata": {
      "needs_background": "light"
     },
     "output_type": "display_data"
    },
    {
     "data": {
      "image/png": "[encoded data removed]",
      "text/plain": [
       "<Figure size 432x288 with 1 Axes>"
      ]
     },
     "metadata": {
      "needs_background": "light"
     },
     "output_type": "display_data"
    },
    {
     "data": {
      "image/png": "[encoded data removed]",
      "text/plain": [
       "<Figure size 432x288 with 1 Axes>"
      ]
     },
     "metadata": {
      "needs_background": "light"
     },
     "output_type": "display_data"
    }
   ],
   "source": [
    "from sklearn import svm\n",
    "training_data = np.append(gloveMatrix, freqCounts, axis=1)\n",
    "training_data = np.append(training_data, charCounts, axis=1)\n",
    "training_data = np.append(training_data, capitalCounts, axis=1)\n",
    "\n",
    "svrreg = svm.SVR(C=5, epsilon=0.01)\n",
    "svrreg.fit(training_data, complexity)\n",
    "\n",
    "predictions = svrreg.predict(training_data)\n",
    "print(\"Train R^2\", svrreg.score(training_data, complexity))\n",
    "print(\"Train L1:\", np.mean(np.abs(predictions - complexity)))\n",
    "\n",
    "# eval on trial data\n",
    "trial_data = np.append(gloveMatrix_trial, trial_freqCounts, axis=1)\n",
    "trial_data = np.append(trial_data, trial_charCounts, axis=1)\n",
    "trial_data = np.append(trial_data, trial_capCounts, axis=1)\n",
    "\n",
    "trial_predictions = svrreg.predict(trial_data)\n",
    "\n",
    "print(\"Trial R^2:\", svrreg.score(trial_data, trial_complexity))\n",
    "print(\"Trial L1:\", np.mean(np.abs(trial_predictions - trial_complexity)))\n",
    "\n",
    "plotCharts(trial_predictions, trial_complexity)"
   ]
  },
  {
   "cell_type": "code",
   "execution_count": null,
   "metadata": {},
   "outputs": [],
   "source": [
    "Train R^2 0.7829360026560697\n",
    "Train L1: 0.04368751206576392\n",
    "Trial R^2: 0.6638174921945952\n",
    "Trial L1: 0.06628924837757683"
   ]
  }
 ],
 "metadata": {
  "kernelspec": {
   "display_name": "Python 3",
   "language": "python",
   "name": "python3"
  },
  "language_info": {
   "codemirror_mode": {
    "name": "ipython",
    "version": 3
   },
   "file_extension": ".py",
   "mimetype": "text/x-python",
   "name": "python",
   "nbconvert_exporter": "python",
   "pygments_lexer": "ipython3",
   "version": "3.8.3"
  }
 },
 "nbformat": 4,
 "nbformat_minor": 4
}
